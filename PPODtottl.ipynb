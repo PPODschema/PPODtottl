{
 "cells": [
  {
   "cell_type": "markdown",
   "metadata": {},
   "source": [
    "# Converting California PPOD spreadsheet into RDF\n",
    "\n",
    "This notebook takes Patrick Huber's Google Sheets spreadsheets for managing the California \n",
    "conservation-related PPOD information and converts it into RDF, outputting it in turtle format.\n",
    "\n"
   ]
  },
  {
   "cell_type": "code",
   "execution_count": 171,
   "metadata": {},
   "outputs": [],
   "source": [
    "import gspread\n",
    "import pandas as pd\n",
    "import binascii\n",
    "import rdflib\n",
    "from pprint import pprint\n",
    "from oauth2client.service_account import ServiceAccountCredentials\n"
   ]
  },
  {
   "cell_type": "code",
   "execution_count": 172,
   "metadata": {},
   "outputs": [],
   "source": [
    "# get authorization to access Google Sheets\n",
    "\n",
    "# use creds to create a client to interact with the Google Drive API\n",
    "scope = ['https://spreadsheets.google.com/feeds']\n",
    "creds = ServiceAccountCredentials.from_json_keyfile_name('fsl-data-access-8731857cb6f9.json', scope)\n",
    "gssclient = gspread.authorize(creds)"
   ]
  },
  {
   "cell_type": "code",
   "execution_count": 173,
   "metadata": {},
   "outputs": [],
   "source": [
    "gsworkbook = gssclient.open_by_url('https://docs.google.com/spreadsheets/d/1k_BeTRklXz1aAh25DyYs1TIY7Okfa3jh6YJC6PQTUiE')\n"
   ]
  },
  {
   "cell_type": "code",
   "execution_count": 174,
   "metadata": {},
   "outputs": [],
   "source": [
    "# get pointers to all the relevant sheets\n",
    "vocab_sheet = gsworkbook.worksheet('Vocabularies')\n",
    "organizations_sheet = gsworkbook.worksheet('Organizations')\n",
    "projects_sheet = gsworkbook.worksheet('Projects')\n",
    "program_sheet = gsworkbook.worksheet('Programs')\n",
    "people_sheet = gsworkbook.worksheet('People')\n",
    "peopleorgs_sheet = gsworkbook.worksheet('PeopleOrg')\n",
    "peopleproj_sheet = gsworkbook.worksheet('PeopleProj')\n",
    "peopleprogram_sheet = gsworkbook.worksheet('PeopleProgram')\n",
    "guidelines_sheet = gsworkbook.worksheet('Guidelines_Mandates')\n",
    "orggm_sheet = gsworkbook.worksheet('OrgGM')\n",
    "orgprojgm_sheet = gsworkbook.worksheet('OrgProjGM')\n",
    "datasets_sheet = gsworkbook.worksheet('Datasets')\n",
    "tools_sheet = gsworkbook.worksheet('Tools')\n",
    "futureresources_sheet = gsworkbook.worksheet('Future Resources')\n",
    "intissues_sheet = gsworkbook.worksheet('Issues (Integrated)')\n",
    "compissues_sheet = gsworkbook.worksheet('Issues (Component)')\n",
    "\n"
   ]
  },
  {
   "cell_type": "code",
   "execution_count": 175,
   "metadata": {},
   "outputs": [],
   "source": [
    "# convert these to data frames\n",
    "vocabdf = pd.DataFrame(vocab_sheet.get_all_records())\n",
    "orgdf = pd.DataFrame(organizations_sheet.get_all_records())\n",
    "projdf = pd.DataFrame(projects_sheet.get_all_records())\n",
    "progdf = pd.DataFrame(program_sheet.get_all_records())\n",
    "peopledf = pd.DataFrame(people_sheet.get_all_records())\n",
    "peopleorgdf = pd.DataFrame(peopleorgs_sheet.get_all_records())\n",
    "peopleprojdf = pd.DataFrame(peopleproj_sheet.get_all_records())\n",
    "peopleprogramdf = pd.DataFrame(peopleprogram_sheet.get_all_records())\n",
    "guidelinesdf = pd.DataFrame(guidelines_sheet.get_all_records())\n",
    "orggmdf = pd.DataFrame(orggm_sheet.get_all_records())\n",
    "orgprojgmdf = pd.DataFrame(orgprojgm_sheet.get_all_records())\n",
    "datasetdf = pd.DataFrame(datasets_sheet.get_all_records())\n",
    "tooldf = pd.DataFrame(tools_sheet.get_all_records())\n",
    "intissuedf = pd.DataFrame(intissues_sheet.get_all_records())\n",
    "compissuedf = pd.DataFrame(compissues_sheet.get_all_records())"
   ]
  },
  {
   "cell_type": "markdown",
   "metadata": {},
   "source": [
    "### Incorporating our linked identifiers\n",
    "\n",
    "We want the following:\n",
    "\n",
    "* The rdf:type of each of the major sheets i.e. for each instance listing. This will be to an agreed-upon term (e.g. foaf:Organization)\n",
    "* For the vocabs, they will all share the base URI for the ttl file itself, but might want to use our 24-bit hash thing for each term. Something like CaPPOD:vocab_A24D83. But the hash should concatenate the vocab name and the term name\n",
    "* For all the columns in each sheet / dataframe, look up if we have any equivalent in PPOD / the OKN work, and use that terminology for those properties."
   ]
  },
  {
   "cell_type": "code",
   "execution_count": 176,
   "metadata": {},
   "outputs": [],
   "source": [
    "# Let's create a minihash function for unique identifiers. I figure 24 bits is big enough (6 hex digits).\n",
    "# I'm just going to use crc32 and truncate the last two digits.\n",
    "def makeid(s):\n",
    "    hexid = hex(binascii.crc32(bytes(s.encode(\"utf-8\"))))[2:8] \n",
    "    return hexid"
   ]
  },
  {
   "cell_type": "code",
   "execution_count": 177,
   "metadata": {},
   "outputs": [
    {
     "data": {
      "text/plain": [
       "'e4c54b'"
      ]
     },
     "execution_count": 177,
     "metadata": {},
     "output_type": "execute_result"
    }
   ],
   "source": [
    "makeid(\"the quick dog jumped high\")"
   ]
  },
  {
   "cell_type": "markdown",
   "metadata": {},
   "source": [
    "I figure I will use this as identifier suffixes for all these text names that are too long to abbreviate. E.g. 'Yuba County Resource Conservation District' becomes `CaPPOD:org_fb822f` using the `makeid` function."
   ]
  },
  {
   "cell_type": "code",
   "execution_count": 178,
   "metadata": {},
   "outputs": [
    {
     "data": {
      "text/plain": [
       "'fb822f'"
      ]
     },
     "execution_count": 178,
     "metadata": {},
     "output_type": "execute_result"
    }
   ],
   "source": [
    "makeid('Yuba County Resource Conservation District')"
   ]
  },
  {
   "cell_type": "code",
   "execution_count": 179,
   "metadata": {},
   "outputs": [],
   "source": [
    "# The URIs for the major types in the workbook. \n",
    "# Not sure about the guidelines/mandates one but this will do until \n",
    "# I work up a more elaborate ontology for it.\n",
    "PPODrefs = {'Organizations': 'http://xmlns.com/foaf/0.1/Organization',\n",
    "            'Projects': 'http://vivoweb.org/ontology/core#Project',\n",
    "            'Programs': 'http://vivoweb.org/ontology/core#Program',\n",
    "            'People': 'http://xmlns.com/foaf/0.1/Person',\n",
    "            'Guidelines_Mandates':'http://www.sdsconsortium.org/schemas/sds-okn.owl#BestPracticesAndMandates',\n",
    "            'Datasets': 'http://vivoweb.org/ontology/core#Dataset',\n",
    "            'Tools': 'http://www.sdsconsortium.org/schemas/sds-okn.owl#Tool',\n",
    "            'Issues (Integrated)': 'http://asi.ice.ucdavis.edu/sustsource/schemas/sustsource.owl#IntegratedIssue',\n",
    "            'Issues (Component)': 'http://asi.ice.ucdavis.edu/sustsource/schemas/sustsource.owl#ComponentIssue'\n",
    "           }"
   ]
  },
  {
   "cell_type": "code",
   "execution_count": 180,
   "metadata": {},
   "outputs": [
    {
     "data": {
      "text/plain": [
       "{'Organizations': 'http://xmlns.com/foaf/0.1/Organization',\n",
       " 'Projects': 'http://vivoweb.org/ontology/core#Project',\n",
       " 'Programs': 'http://vivoweb.org/ontology/core#Program',\n",
       " 'People': 'http://xmlns.com/foaf/0.1/Person',\n",
       " 'Guidelines_Mandates': 'http://www.sdsconsortium.org/schemas/sds-okn.owl#BestPracticesAndMandates',\n",
       " 'Datasets': 'http://vivoweb.org/ontology/core#Dataset',\n",
       " 'Tools': 'http://www.sdsconsortium.org/schemas/sds-okn.owl#Tool',\n",
       " 'Issues (Integrated)': 'http://asi.ice.ucdavis.edu/sustsource/schemas/sustsource.owl#IntegratedIssue',\n",
       " 'Issues (Component)': 'http://asi.ice.ucdavis.edu/sustsource/schemas/sustsource.owl#ComponentIssue'}"
      ]
     },
     "execution_count": 180,
     "metadata": {},
     "output_type": "execute_result"
    }
   ],
   "source": [
    "PPODrefs"
   ]
  },
  {
   "cell_type": "code",
   "execution_count": 181,
   "metadata": {},
   "outputs": [],
   "source": [
    "# We now want dictionaries for all our lists of properties associated with each major type.\n",
    "# These will give a tuple of (Data \"d\" or Object property \"o\" (internal), \"u\" object property (URL), \"v\" - object property internal vocab) \n",
    "# URI for property, label string for property, either name of dictionary (string) for 'v' or hash code prefix for 'o'),\n",
    "# then 's' or 'm' for comma-delimiting string split\n",
    "# to repeat: ([d|o|v|u], property URI, property label, string for dictionary name or prefix, '[s|m]')\n",
    "\n",
    "# Organization predicates dictionary\n",
    "orgpred = {\"Organization\": ('d', 'http://purl.org/dc/terms/title', 'title', '', 's'),\n",
    "            \"Alias\": ('d', 'http://www.w3.org/2004/02/skos/core#altLabel', 'alias', '', 's'),\n",
    "            \"isPartOf\": ('o', 'http://purl.org/dc/terms/isPartOf', 'is part of', 'org','m'),\n",
    "          \"isMemberOf\": ('o', 'http://www.w3.org/ns/org#memberOf', 'is member of', 'org', 'm'),\n",
    "           # for county, will change the URI at some point\n",
    "          \"County\": ('v', 'http://asi.ice.ucdavis.edu/sustsource/schemas/fsisupp.owl#inCounty', 'in county', 'countydict', 'm'),\n",
    "           \"Ecoregion\": ('v', 'http://asi.ice.ucdavis.edu/sustsource/schemas/fsisupp.owl#inEcoregion', 'in ecoregion', 'ecoregiondict','m'),\n",
    "          \"hasOrgType\": ('v', 'http://www.w3.org/ns/org#classification', 'organization type', 'orgtypedict', 'm'),\n",
    "          \"Partners\": ('o', 'http://vivoweb.org/ontology/core#hasCollaborator', 'has partner', 'org', 'm'),\n",
    "            \"Funding\": ('o', 'http://purl.org/cerif/frapo/isFundedBy', 'is funded by', 'org','m'),\n",
    "           \"hasOrgActivity\": ('v', 'http://purl.obolibrary.org/obo/RO_0000056', 'participates in','orgactivitydict', 'm'),\n",
    "           \"Issues\": ('v', 'http://asi.ice.ucdavis.edu/sustsource/schemas/fsisupp.owl#FSI_000239', 'related sustainability issue', 'issuedict', 'm'), # need to agglom comp and int issues\n",
    "           \"URL\": ('u', 'http://dev.poderopedia.com/vocab/hasURL', 'has URL', '', 'm'),\n",
    "           \"Contact\": ('d', 'http://vivoweb.org/ontology/core#contactInformation', 'contact', '','s'),\n",
    "           # taxa should be an object property at some point, but for assume content is a string\n",
    "           \"Taxa\": ('d', 'http://asi.ice.ucdavis.edu/sustsource/schemas/fsisupp.owl#taxa', 'taxa', '','m'),\n",
    "           \"Land Cover - CWHR\": ('v', 'http://asi.ice.ucdavis.edu/sustsource/schemas/fsisupp.owl#habitatType', 'habitat type', 'habtypedict', 'm'), # need to build this\n",
    "           \"Ecological Process\": ('d', 'http://asi.ice.ucdavis.edu/sustsource/schemas/fsisupp.owl#ecologicalProcess', 'ecological process', '','s'),\n",
    "           \"GM_Name\": ('o', 'http://asi.ice.ucdavis.edu/sustsource/schemas/fsisupp.owl#GM_Name', 'guideline/mandate name', 'gmt', 'm')\n",
    "          }\n",
    "           \n",
    "           "
   ]
  },
  {
   "cell_type": "code",
   "execution_count": 182,
   "metadata": {},
   "outputs": [],
   "source": [
    "# Project predicates dictionary\n",
    "projpred = {\"Project\": ('d', 'http://xmlns.com/foaf/0.1/Project', 'project', '','s'),\n",
    "            \"Alias\": ('d', 'http://www.w3.org/2004/02/skos/core#altLabel', 'alias', '', 's'),\n",
    "            \"isPartOf\": ('o', 'http://purl.org/dc/terms/isPartOf', 'is part of', 'prj','m'),\n",
    "            \"ProjType\": ('v', 'http://asi.ice.ucdavis.edu/sustsource/schemas/fsisupp.owl#projType', 'project type', 'projtypedict', 'm'),\n",
    "            \"ProjProg\": ('o', 'http://purl.obolibrary.org/obo/BFO_0000066', 'occurs in', 'prg','m'),\n",
    "            \"Organization (Lead)\": ('o', 'http://asi.ice.ucdavis.edu/sustsource/schemas/fsisupp.owl#leadOrg', 'lead organization', 'org', 'm'),\n",
    "            \"Organization (Funding)\": ('o', 'http://vivoweb.org/ontology/core#fundingAgentFor', 'funding organization', 'org', 'm'),\n",
    "            \"OrgFundProg\": ('o', 'http://vivoweb.org/ontology/core#hasFundingVehicle', 'funding provided via', 'prg','m'),\n",
    "            \"Lead Individual\": ('d', 'http://asi.ice.ucdavis.edu/sustsource/schemas/fsisupp.owl#leadIndividual', 'lead individual', '', 's'),\n",
    "            \"Partners\": ('o', 'http://vivoweb.org/ontology/core#affiliatedOrganization', 'partner organization', 'org', 'm'),\n",
    "            \"Location\": ('d', 'http://purl.obolibrary.org/obo/RO_0001025', 'located in', '', 's'),\n",
    "            \"County\": ('v', 'http://asi.ice.ucdavis.edu/sustsource/schemas/fsisupp.owl#inCounty', 'in county', 'countydict', 'm'),\n",
    "            \"Ecoregion\": ('v', 'http://asi.ice.ucdavis.edu/sustsource/schemas/fsisupp.owl#inEcoregion', 'in ecoregion', 'ecoregiondict', 'm'),\n",
    "            \"Watershed\": ('d', 'http://asi.ice.ucdavis.edu/sustsource/schemas/fsisupp.owl#inWatershed', 'in watershed', '', 's'),\n",
    "            \"Issues\": ('v', 'http://asi.ice.ucdavis.edu/sustsource/schemas/fsisupp.owl#FSI_000239', 'related sustainability issue', 'issuedict', 'm'),\n",
    "            \"ProjDetails\": ('u', 'http://asi.ice.ucdavis.edu/sustsource/schemas/fsisupp.owl#projDetails', 'project details', '', 's'),\n",
    "            \"Indicators\": ('d', 'http://asi.ice.ucdavis.edu/sustsource/schemas/fsisupp.owl#hasIndicator', 'has indicator', '', 's'),\n",
    "            \"inDataset\": ('o', 'http://purl.obolibrary.org/obo/RO_0002352', 'input of', 'dts', 'm'),\n",
    "            \"outDataset\": ('o', 'http://purl.obolibrary.org/obo/RO_0002353', 'output of', 'dts', 'm'),\n",
    "            \"Strategies\": ('d', 'http://asi.ice.ucdavis.edu/sustsource/schemas/fsisupp.owl#hasStrategy', 'has strategy', '', 'm'),\n",
    "            \"URL\": ('u', 'http://dev.poderopedia.com/vocab/hasURL', 'has URL', '', 'm'),\n",
    "            \"Taxa\": ('d', 'http://asi.ice.ucdavis.edu/sustsource/schemas/fsisupp.owl#taxa', 'taxa', '', 'm'),\n",
    "            \"Land Cover - CWHR\": ('v', 'http://asi.ice.ucdavis.edu/sustsource/schemas/fsisupp.owl#habitatType', 'habitat type', 'habtypedict', 'm'),\n",
    "            \"Ecological Process\": ('d', 'http://asi.ice.ucdavis.edu/sustsource/schemas/fsisupp.owl#ecologicalProcess', 'ecological process', '', 's'),\n",
    "            \"Start Year\": ('d', 'http://dbpedia.org/ontology/startYear', 'startYear', '', 's'),\n",
    "            \"End Year\": ('d', 'http://dbpedia.org/ontology/endYear', 'endYear', '', 's'),\n",
    "            \"Funding\": ('o', 'http://purl.org/cerif/frapo/isFundedBy', 'isFundedBy', 'org','m'),\n",
    "            \"Latitude\": ('d', 'https://www.w3.org/2003/01/geo/wgs84_pos#lat', 'latitude', '', 's'),\n",
    "            \"Longitude\": ('d', 'https://www.w3.org/2003/01/geo/wgs84_pos#long', 'longitude', '', 's'),\n",
    "            \"FSL doc\": ('u', 'http://asi.ice.ucdavis.edu/sustsource/schemas/fsisupp.owl#FSLdoc', 'FSL doc', '', 's'),\n",
    "            \"Use Case (Meat)\": ('d', 'http://asi.ice.ucdavis.edu/sustsource/schemas/fsisupp.owl#usecaseMeat', 'use case: meat', '', 's'),\n",
    "            \"Use Case (EPA)\": ('d', 'http://asi.ice.ucdavis.edu/sustsource/schemas/fsisupp.owl#usecaseEPA', 'use case: EPA', '', 's'),\n",
    "            \"Use Case (JPA)\": ('d', 'http://asi.ice.ucdavis.edu/sustsource/schemas/fsisupp.owl#usecaseJPA', 'use case: JPA','', 's')    \n",
    "}"
   ]
  },
  {
   "cell_type": "code",
   "execution_count": 183,
   "metadata": {},
   "outputs": [],
   "source": [
    "# program predicates dictionary\n",
    "progpred = {\n",
    "            \"Program\": ('d', 'http://vivoweb.org/ontology/core#Program', 'program', '', 's'),    \n",
    "            \"Alias\":   ('d', 'http://www.w3.org/2004/02/skos/core#altLabel', 'alias', '', 's'),\n",
    "            \"ProgType\": ('v', 'http://asi.ice.ucdavis.edu/sustsource/schemas/fsisupp.owl#progType', 'program yype', 'progtypedict', 'm'),\n",
    "            \"Organization\": ('o', 'http://asi.ice.ucdavis.edu/sustsource/schemas/fsisupp.owl#leadOrg', 'lead organization', 'org', 'm'),\n",
    "            \"Partners\": ('o', 'http://vivoweb.org/ontology/core#affiliatedOrganization', 'partner organization', 'org', 'm'),\n",
    "            \"Issues\": ('v', 'http://asi.ice.ucdavis.edu/sustsource/schemas/fsisupp.owl#FSI_000239', 'related sustainability issue', 'issuedict', 'm'),\n",
    "            \"Lead Individual\": ('d', 'http://asi.ice.ucdavis.edu/sustsource/schemas/fsisupp.owl#leadIndividual', 'lead individual', '', 's'),\n",
    "            \"GM_Name\": ('o', 'http://asi.ice.ucdavis.edu/sustsource/schemas/fsisupp.owl#GM_Name', 'guideline/mandate name', 'gmt', 'm'),\n",
    "            \"County\": ('v', 'http://asi.ice.ucdavis.edu/sustsource/schemas/fsisupp.owl#inCounty', 'in county', 'countydict', 'm'),\n",
    "            \"Ecoregion\": ('v', 'http://asi.ice.ucdavis.edu/sustsource/schemas/fsisupp.owl#inEcoregion', 'in ecoregion', 'ecoregiondict', 'm'),\n",
    "            \"URL\": ('u', 'http://dev.poderopedia.com/vocab/hasURL', 'has URL', '', 'm'),\n",
    "            \"Taxa\": ('d', 'http://asi.ice.ucdavis.edu/sustsource/schemas/fsisupp.owl#taxa', 'taxa', '', 'm'),\n",
    "            \"Use Case (Meat)\": ('d', 'http://asi.ice.ucdavis.edu/sustsource/schemas/fsisupp.owl#usecaseMeat', 'use case: meat', '', 's'),\n",
    "            \"Use Case (EPA)\": ('d', 'http://asi.ice.ucdavis.edu/sustsource/schemas/fsisupp.owl#usecaseEPA', 'use case: EPA', '', 's'),\n",
    "            \"Use Case (JPA)\": ('d', 'http://asi.ice.ucdavis.edu/sustsource/schemas/fsisupp.owl#usecaseJPA', 'use case: JPA', '', 's'),\n",
    "            \"Use Case (SCAG)\": ('d', 'http://asi.ice.ucdavis.edu/sustsource/schemas/fsisupp.owl#usecaseSCAG', 'use case: SCAG', '', 's'),\n",
    "    \n",
    "            \n",
    "}\n"
   ]
  },
  {
   "cell_type": "code",
   "execution_count": 184,
   "metadata": {},
   "outputs": [],
   "source": [
    "personpred = {\n",
    "            \"Full Name\": ('d', 'http://xmlns.com/foaf/0.1/name', 'full name', '', 's'),\n",
    "            \"Last Name\": ('d', 'http://xmlns.com/foaf/0.1/lastName', 'last name', '', 's'),\n",
    "            \"First Name\": ('d', 'http://xmlns.com/foaf/0.1/firstName', 'first name', '', 's'),\n",
    "            \"Email\": ('d', 'http://xmlns.com/foaf/0.1/mbox', 'email', '', 's'),\n",
    "            \"Phone\": ('d', 'http://xmlns.com/foaf/0.1/phone', 'phone', '', 's'),\n",
    "            \"Issues\": ('v', 'http://asi.ice.ucdavis.edu/sustsource/schemas/fsisupp.owl#FSI_000239', 'related sustainability issue', 'issuedict', 'm'),\n",
    "            \"Notes\": ('d', 'http://asi.ice.ucdavis.edu/sustsource/schemas/fsisupp.owl#FSI_000243', 'note', '', 's'),\n",
    "            \"usecaseConservation\": ('d', 'http://asi.ice.ucdavis.edu/sustsource/schemas/fsisupp.owl#usecaseCons', 'use case: Conservation', '', 's'),\n",
    "            \"usecaseMeat\": ('d', 'http://asi.ice.ucdavis.edu/sustsource/schemas/fsisupp.owl#usecaseMeat', 'use case: meat', '', 's'),\n",
    "            \"usecaseSac\": ('d', 'http://asi.ice.ucdavis.edu/sustsource/schemas/fsisupp.owl#usecaseSac', 'use case: Sacramento', '', 's'),\n",
    "            \"usecaseSCAG\": ('d', 'http://asi.ice.ucdavis.edu/sustsource/schemas/fsisupp.owl#usecaseSCAG', 'use case: SCAG', '', 's'),\n",
    "            \"usecaseEcuador\": ('d', 'http://asi.ice.ucdavis.edu/sustsource/schemas/fsisupp.owl#usecaseEcuador', 'use case: Ecuador', '', 's'),\n",
    "            \"usecaseBayAreaRAMP\": ('d', 'http://asi.ice.ucdavis.edu/sustsource/schemas/fsisupp.owl#usecaseBayAreaRAMP', 'use case: Bay Area RAMP', '', 's'),\n",
    "\n",
    "}"
   ]
  },
  {
   "cell_type": "code",
   "execution_count": 185,
   "metadata": {},
   "outputs": [],
   "source": [
    "personorgpred = {\n",
    "            \"Full Name\": ('o', 'http://purl.obolibrary.org/obo/RO_0000057', 'has participant', 'per', 's'),\n",
    "            \"Organization\": ('o', 'http://purl.obolibrary.org/obo/RO_0000081', 'role of', 'org', 's'),\n",
    "            \"Position (Verbatim)\": ('d', 'http://purl.org/dc/terms/title', 'title', '', 'd'),\n",
    "            \"Position (Type)\": ('o', 'http://asi.ice.ucdavis.edu/sustsource/schemas/fsisupp.owl#positionType', 'position type', 'positiontypedict', 'm'),\n",
    "            \"Year (Start)\": ('d', 'http://dbpedia.org/ontology/startYear', 'startYear', '', 'd' ),\n",
    "            \"Year (End)\": ('d', 'http://dbpedia.org/ontology/endYear', 'endYear',  '', 'd')\n",
    "}"
   ]
  },
  {
   "cell_type": "code",
   "execution_count": 186,
   "metadata": {},
   "outputs": [],
   "source": [
    "personprojpred = {\n",
    "            \"Full Name\": ('o', 'http://purl.obolibrary.org/obo/RO_0000057', 'has participant', 'per', 's'),\n",
    "            \"Project\": ('o', 'http://purl.obolibrary.org/obo/RO_0002331', 'involved in', 'prj', 's'),\n",
    "            #\"ProjRole\": ('o', 'http://purl.obolibrary.org/obo/RO_0000087', 'has role', 'projroledict', 's'),\n",
    "            \"ProjRole\": ('d', 'http://purl.obolibrary.org/obo/RO_0000087', 'has role', '', 's'),\n",
    "\n",
    "}"
   ]
  },
  {
   "cell_type": "code",
   "execution_count": 187,
   "metadata": {},
   "outputs": [],
   "source": [
    "personprogrampred = {\n",
    "            \"Full Name\": ('o', 'http://purl.obolibrary.org/obo/RO_0000057', 'has participant', 'per', 's'),\n",
    "            \"Program\": ('o', 'http://purl.obolibrary.org/obo/RO_0002331', 'involved in', 'prg', 's'),\n",
    "            \"Role\": ('d', 'http://purl.obolibrary.org/obo/RO_0000087', 'has role', '', 's'),\n",
    "            #\"Role\": ('v', 'http://purl.obolibrary.org/obo/RO_0000087', 'has role', 'progroledict', 's'),\n",
    "            \"Role (Type)\": ('u', 'http://asi.ice.ucdavis.edu/sustsource/schemas/fsisupp.owl#roleType', 'role type', '', 's'), # not sure what Patrick is doing with this.\n",
    "            \"Year (Start)\": ('d', 'http://dbpedia.org/ontology/startYear', 'start year', '', 's'),\n",
    "            \"Year (End)\": ('d', 'http://dbpedia.org/ontology/endYear', 'end year', '', 's')\n",
    "}"
   ]
  },
  {
   "cell_type": "code",
   "execution_count": 188,
   "metadata": {},
   "outputs": [],
   "source": [
    "guidelinespred = {\n",
    "            \"GM_Name\": ('d', 'http://purl.org/dc/terms/title', 'Name', '', 's'),\n",
    "            \"Alias\": ('d', 'http://www.w3.org/2004/02/skos/core#altLabel', 'alias', '', 's'),\n",
    "            \"GMType\": ('v', 'http://asi.ice.ucdavis.edu/sustsource/schemas/fsisupp.owl#gmType', 'guideline/mandate type', 'gmtypedict', 'm'),\n",
    "            \"Year\": ('d', 'http://purl.org/dc/terms/date', 'date', '', 's'), \n",
    "            \"Issues\": ('v', 'http://asi.ice.ucdavis.edu/sustsource/schemas/fsisupp.owl#FSI_000239', 'related sustainability issue', 'issuedict', 'm'),\n",
    "            \"GovLevel\": ('v', 'http://asi.ice.ucdavis.edu/sustsource/schemas/fsisupp.owl#govLevel', 'government level', 'govleveldict', 'm'),\n",
    "            \"Counties\": ('v', 'http://asi.ice.ucdavis.edu/sustsource/schemas/fsisupp.owl#inCounty', 'in county', 'countydict', 'm'),\n",
    "            \"Ecoregions\": ('v', 'http://asi.ice.ucdavis.edu/sustsource/schemas/fsisupp.owl#inEcoregion', 'in ecoregion', 'ecoregiondict', 'm'),\n",
    "            \"URL\": ('u', 'http://dev.poderopedia.com/vocab/hasURL', 'has URL', '', 's'),\n",
    "            \"Taxa\": ('d', 'http://asi.ice.ucdavis.edu/sustsource/schemas/fsisupp.owl#taxa', 'taxa', '', 's'),\n",
    "            \"Land Cover - CWHR\": ('v', 'http://asi.ice.ucdavis.edu/sustsource/schemas/fsisupp.owl#habitatType', 'habitat type', 'habtypedict', 'm'),\n",
    "            \"Ecological Process\": ('d', 'http://asi.ice.ucdavis.edu/sustsource/schemas/fsisupp.owl#ecologicalProcess', 'ecological process', '', 's'),\n",
    "            \"Use Case (Meat)\":('d', 'http://asi.ice.ucdavis.edu/sustsource/schemas/fsisupp.owl#usecaseMeat', 'use case: meat', '', 's'),\n",
    "            \"Use Case (EPA)\": ('d', 'http://asi.ice.ucdavis.edu/sustsource/schemas/fsisupp.owl#usecaseEPA', 'use case: EPA', '', 's')\n",
    "    \n",
    "}"
   ]
  },
  {
   "cell_type": "code",
   "execution_count": 189,
   "metadata": {},
   "outputs": [],
   "source": [
    "# this has different logic! Patrick is basically encoding triples here, and the dictionary below\n",
    "# is the lookup for the second column\n",
    "orggmpred = {\n",
    "            \"Created\": ('o', 'http://iflastandards.info/ns/fr/frbr/frbrer/P2008', 'creator of'), # oh look, FRBRer!\n",
    "            \"Was Created By\": ('o', 'http://iflastandards.info/ns/fr/frbr/frbrer/P2007', 'was created by'),\n",
    "            \"Implements\": ('o',  'https://w3id.org/dingo#implements', 'implements'), # DINGO is (another) projects and grants ontology \n",
    "            \"Mandates\": ('o', 'http://asi.ice.ucdavis.edu/sustsource/schemas/fsisupp.owl#mandates', 'mandates'),\n",
    "            \"Funds Established By\": ('o', 'http://vivoweb.org/ontology/core#hasFundingVehicle', 'has funding vehicle'),  \n",
    "}"
   ]
  },
  {
   "cell_type": "code",
   "execution_count": 190,
   "metadata": {},
   "outputs": [],
   "source": [
    "# somewhat different logic for this table as well. columns C, D, E in this table form a class that\n",
    "# whose instances the GMs in column A point to with predicate in column B. The entries in this \n",
    "# dictionary are for columns C, D, and E\n",
    "orgprojgmpred = {\n",
    "            \"Organization\": ('o', 'http://purl.obolibrary.org/obo/RO_0000057', 'has participant', 'org', 's'),\n",
    "            \"OrgProjRelation\": ('o', 'http://purl.obolibrary.org/obo/RO_0000087', 'has role', 'orgprojrelationdict', 's'),\n",
    "            \"Project\": ('o', 'http://purl.obolibrary.org/obo/RO_0002331', 'involved in', 'prj', 's'),\n",
    "}"
   ]
  },
  {
   "cell_type": "code",
   "execution_count": 191,
   "metadata": {},
   "outputs": [],
   "source": [
    "datasetpred = {\n",
    "            \"Name\":  ('d', 'http://purl.org/dc/terms/title', 'title', '', 's'),\n",
    "            \"Organization (Created By)\": ('o', 'http://iflastandards.info/ns/fr/frbr/frbrer/P2007', 'was created by', 'org', 's'),\n",
    "            \"Issues\": ('v', 'http://asi.ice.ucdavis.edu/sustsource/schemas/fsisupp.owl#FSI_000239', 'related sustainability issue', 'issuedict', 'm'),\n",
    "            \"GM_Name\":  ('o', 'http://asi.ice.ucdavis.edu/sustsource/schemas/fsisupp.owl#mandatedBy', 'mandated by', 'gmt', 'm'),\n",
    "            \"URL\":  ('u', 'http://dev.poderopedia.com/vocab/hasURL', 'has URL', '', 's'),\n",
    "            \"Use Case (Meat)\": ('d', 'http://asi.ice.ucdavis.edu/sustsource/schemas/fsisupp.owl#usecaseMeat', 'use case: meat', '', 's'),\n",
    "            \"Use Case (JPA)\": ('d', 'http://asi.ice.ucdavis.edu/sustsource/schemas/fsisupp.owl#usecaseJPA', 'use case: JPA', '', 's'),\n",
    "            \"Use Case (EPA)\": ('d', 'http://asi.ice.ucdavis.edu/sustsource/schemas/fsisupp.owl#usecaseEPA', 'use case: EPA', '', 's')\n",
    "    \n",
    "}"
   ]
  },
  {
   "cell_type": "code",
   "execution_count": 192,
   "metadata": {},
   "outputs": [],
   "source": [
    "toolpred = {\n",
    "            \"Tool\": ('d', 'http://purl.org/dc/terms/title', 'title', '', 's'),\n",
    "            \"Alias\": ('d', 'http://www.w3.org/2004/02/skos/core#altLabel', 'alias', '', 's'),\n",
    "            \"Organization\":  ('o', 'http://iflastandards.info/ns/fr/frbr/frbrer/P2007', 'was created by', 'org', 's'),\n",
    "            \"Issues\":  ('v', 'http://asi.ice.ucdavis.edu/sustsource/schemas/fsisupp.owl#FSI_000239', 'related sustainability issue', 'issuedict', 'm'),\n",
    "            \"inDataset\": ('o', 'http://purl.obolibrary.org/obo/RO_0002233', 'has input', 'dts', 'm'),\n",
    "            \"outDataset\": ('o', 'http://purl.obolibrary.org/obo/RO_0000087', 'has output', 'dts', 'm'),\n",
    "            \"ToolDetails\": ('u', 'http://purl.org/dc/terms/references', 'references', '', 's'),\n",
    "            \"URL\": ('u', 'http://dev.poderopedia.com/vocab/hasURL', 'has URL', '', 's')\n",
    "}"
   ]
  },
  {
   "cell_type": "code",
   "execution_count": 193,
   "metadata": {},
   "outputs": [],
   "source": [
    "# Create dictionary of predicate URIs as keys and their labels as values\n",
    "predlabeldict = {}\n",
    "predsbyclasslist = [orgpred, projpred, progpred, personpred, personorgpred, personprojpred, personprogrampred, guidelinespred,\n",
    "           orggmpred, orgprojgmpred, datasetpred, toolpred]\n",
    "for predsbyclass in predsbyclasslist:\n",
    "    for pred0 in predsbyclass.keys():\n",
    "        pred0val = predsbyclass[pred0]\n",
    "        pred0URI = pred0val[1]\n",
    "        pred0label = pred0val[2]\n",
    "        if pred0URI not in predlabeldict: # the first in is the winner\n",
    "            predlabeldict[pred0URI] = pred0label"
   ]
  },
  {
   "cell_type": "code",
   "execution_count": 194,
   "metadata": {},
   "outputs": [
    {
     "data": {
      "text/plain": [
       "{'http://purl.org/dc/terms/title': 'title',\n",
       " 'http://www.w3.org/2004/02/skos/core#altLabel': 'alias',\n",
       " 'http://purl.org/dc/terms/isPartOf': 'is part of',\n",
       " 'http://www.w3.org/ns/org#memberOf': 'is member of',\n",
       " 'http://asi.ice.ucdavis.edu/sustsource/schemas/fsisupp.owl#inCounty': 'in county',\n",
       " 'http://asi.ice.ucdavis.edu/sustsource/schemas/fsisupp.owl#inEcoregion': 'in ecoregion',\n",
       " 'http://www.w3.org/ns/org#classification': 'organization type',\n",
       " 'http://vivoweb.org/ontology/core#hasCollaborator': 'has partner',\n",
       " 'http://purl.org/cerif/frapo/isFundedBy': 'is funded by',\n",
       " 'http://purl.obolibrary.org/obo/RO_0000056': 'participates in',\n",
       " 'http://asi.ice.ucdavis.edu/sustsource/schemas/fsisupp.owl#FSI_000239': 'related sustainability issue',\n",
       " 'http://dev.poderopedia.com/vocab/hasURL': 'has URL',\n",
       " 'http://vivoweb.org/ontology/core#contactInformation': 'contact',\n",
       " 'http://asi.ice.ucdavis.edu/sustsource/schemas/fsisupp.owl#taxa': 'taxa',\n",
       " 'http://asi.ice.ucdavis.edu/sustsource/schemas/fsisupp.owl#habitatType': 'habitat type',\n",
       " 'http://asi.ice.ucdavis.edu/sustsource/schemas/fsisupp.owl#ecologicalProcess': 'ecological process',\n",
       " 'http://asi.ice.ucdavis.edu/sustsource/schemas/fsisupp.owl#GM_Name': 'guideline/mandate name',\n",
       " 'http://xmlns.com/foaf/0.1/Project': 'project',\n",
       " 'http://asi.ice.ucdavis.edu/sustsource/schemas/fsisupp.owl#projType': 'project type',\n",
       " 'http://purl.obolibrary.org/obo/BFO_0000066': 'occurs in',\n",
       " 'http://asi.ice.ucdavis.edu/sustsource/schemas/fsisupp.owl#leadOrg': 'lead organization',\n",
       " 'http://vivoweb.org/ontology/core#fundingAgentFor': 'funding organization',\n",
       " 'http://vivoweb.org/ontology/core#hasFundingVehicle': 'funding provided via',\n",
       " 'http://asi.ice.ucdavis.edu/sustsource/schemas/fsisupp.owl#leadIndividual': 'lead individual',\n",
       " 'http://vivoweb.org/ontology/core#affiliatedOrganization': 'partner organization',\n",
       " 'http://purl.obolibrary.org/obo/RO_0001025': 'located in',\n",
       " 'http://asi.ice.ucdavis.edu/sustsource/schemas/fsisupp.owl#inWatershed': 'in watershed',\n",
       " 'http://asi.ice.ucdavis.edu/sustsource/schemas/fsisupp.owl#projDetails': 'project details',\n",
       " 'http://asi.ice.ucdavis.edu/sustsource/schemas/fsisupp.owl#hasIndicator': 'has indicator',\n",
       " 'http://purl.obolibrary.org/obo/RO_0002352': 'input of',\n",
       " 'http://purl.obolibrary.org/obo/RO_0002353': 'output of',\n",
       " 'http://asi.ice.ucdavis.edu/sustsource/schemas/fsisupp.owl#hasStrategy': 'has strategy',\n",
       " 'http://dbpedia.org/ontology/startYear': 'startYear',\n",
       " 'http://dbpedia.org/ontology/endYear': 'endYear',\n",
       " 'https://www.w3.org/2003/01/geo/wgs84_pos#lat': 'latitude',\n",
       " 'https://www.w3.org/2003/01/geo/wgs84_pos#long': 'longitude',\n",
       " 'http://asi.ice.ucdavis.edu/sustsource/schemas/fsisupp.owl#FSLdoc': 'FSL doc',\n",
       " 'http://asi.ice.ucdavis.edu/sustsource/schemas/fsisupp.owl#usecaseMeat': 'use case: meat',\n",
       " 'http://asi.ice.ucdavis.edu/sustsource/schemas/fsisupp.owl#usecaseEPA': 'use case: EPA',\n",
       " 'http://asi.ice.ucdavis.edu/sustsource/schemas/fsisupp.owl#usecaseJPA': 'use case: JPA',\n",
       " 'http://vivoweb.org/ontology/core#Program': 'program',\n",
       " 'http://asi.ice.ucdavis.edu/sustsource/schemas/fsisupp.owl#progType': 'program yype',\n",
       " 'http://asi.ice.ucdavis.edu/sustsource/schemas/fsisupp.owl#usecaseSCAG': 'use case: SCAG',\n",
       " 'http://xmlns.com/foaf/0.1/name': 'full name',\n",
       " 'http://xmlns.com/foaf/0.1/lastName': 'last name',\n",
       " 'http://xmlns.com/foaf/0.1/firstName': 'first name',\n",
       " 'http://xmlns.com/foaf/0.1/mbox': 'email',\n",
       " 'http://xmlns.com/foaf/0.1/phone': 'phone',\n",
       " 'http://asi.ice.ucdavis.edu/sustsource/schemas/fsisupp.owl#FSI_000243': 'note',\n",
       " 'http://asi.ice.ucdavis.edu/sustsource/schemas/fsisupp.owl#usecaseCons': 'use case: Conservation',\n",
       " 'http://asi.ice.ucdavis.edu/sustsource/schemas/fsisupp.owl#usecaseSac': 'use case: Sacramento',\n",
       " 'http://asi.ice.ucdavis.edu/sustsource/schemas/fsisupp.owl#usecaseEcuador': 'use case: Ecuador',\n",
       " 'http://asi.ice.ucdavis.edu/sustsource/schemas/fsisupp.owl#usecaseBayAreaRAMP': 'use case: Bay Area RAMP',\n",
       " 'http://purl.obolibrary.org/obo/RO_0000057': 'has participant',\n",
       " 'http://purl.obolibrary.org/obo/RO_0000081': 'role of',\n",
       " 'http://asi.ice.ucdavis.edu/sustsource/schemas/fsisupp.owl#positionType': 'position type',\n",
       " 'http://purl.obolibrary.org/obo/RO_0002331': 'involved in',\n",
       " 'http://purl.obolibrary.org/obo/RO_0000087': 'has role',\n",
       " 'http://asi.ice.ucdavis.edu/sustsource/schemas/fsisupp.owl#roleType': 'role type',\n",
       " 'http://asi.ice.ucdavis.edu/sustsource/schemas/fsisupp.owl#gmType': 'guideline/mandate type',\n",
       " 'http://purl.org/dc/terms/date': 'date',\n",
       " 'http://asi.ice.ucdavis.edu/sustsource/schemas/fsisupp.owl#govLevel': 'government level',\n",
       " 'http://iflastandards.info/ns/fr/frbr/frbrer/P2008': 'creator of',\n",
       " 'http://iflastandards.info/ns/fr/frbr/frbrer/P2007': 'was created by',\n",
       " 'https://w3id.org/dingo#implements': 'implements',\n",
       " 'http://asi.ice.ucdavis.edu/sustsource/schemas/fsisupp.owl#mandates': 'mandates',\n",
       " 'http://asi.ice.ucdavis.edu/sustsource/schemas/fsisupp.owl#mandatedBy': 'mandated by',\n",
       " 'http://purl.obolibrary.org/obo/RO_0002233': 'has input',\n",
       " 'http://purl.org/dc/terms/references': 'references'}"
      ]
     },
     "execution_count": 194,
     "metadata": {},
     "output_type": "execute_result"
    }
   ],
   "source": [
    "predlabeldict"
   ]
  },
  {
   "cell_type": "markdown",
   "metadata": {},
   "source": [
    "#### Vocabularies\n",
    "\n",
    "The first sheet (vocab_sheet) is a listing of vocabularies in use. Each column is a separate vocabulary. Some of\n",
    "these (e.g. issues) we've already established URIs for (though I might want to port them, but that's another story), others are new terms. How should I handle all these?\n",
    "Each of these terms should get loaded into a dictionary, probably a separate one for each column. \n",
    "Both County and Ecoregions have an \"all\" term, which is best handled by some special code dumping in all 58 counties e.g. "
   ]
  },
  {
   "cell_type": "markdown",
   "metadata": {},
   "source": [
    "For the issues, we want to use our established terms. The intissues and compissues sheets gives the suffixes for these. "
   ]
  },
  {
   "cell_type": "code",
   "execution_count": 195,
   "metadata": {},
   "outputs": [],
   "source": [
    "intissuedict = {}\n",
    "intissueprefix = \"http://asi.ice.ucdavis.edu/sustsource/schemas/sustsource.owl#\""
   ]
  },
  {
   "cell_type": "code",
   "execution_count": 196,
   "metadata": {},
   "outputs": [
    {
     "data": {
      "text/plain": [
       "44"
      ]
     },
     "execution_count": 196,
     "metadata": {},
     "output_type": "execute_result"
    }
   ],
   "source": [
    "intissuedf.shape[0]"
   ]
  },
  {
   "cell_type": "code",
   "execution_count": 197,
   "metadata": {},
   "outputs": [],
   "source": [
    "for i in range(intissuedf.shape[0]):\n",
    "    #print(intissuedf.iloc[i,0], intissuedf.iloc[i,1])\n",
    "    intissuedict.update( {intissuedf.iloc[i,1] : intissueprefix + intissuedf.iloc[i,0] })"
   ]
  },
  {
   "cell_type": "code",
   "execution_count": 198,
   "metadata": {},
   "outputs": [
    {
     "data": {
      "text/plain": [
       "'http://asi.ice.ucdavis.edu/sustsource/schemas/sustsource.owl#IS0050'"
      ]
     },
     "execution_count": 198,
     "metadata": {},
     "output_type": "execute_result"
    }
   ],
   "source": [
    "intissueprefix + \"IS0050\""
   ]
  },
  {
   "cell_type": "code",
   "execution_count": 199,
   "metadata": {},
   "outputs": [
    {
     "data": {
      "text/plain": [
       "{'Agricultural Sector': 'http://asi.ice.ucdavis.edu/sustsource/schemas/sustsource.owl#IS0001',\n",
       " 'Air & Climate': 'http://asi.ice.ucdavis.edu/sustsource/schemas/sustsource.owl#IS0002',\n",
       " 'Biodiversity': 'http://asi.ice.ucdavis.edu/sustsource/schemas/sustsource.owl#IS0003',\n",
       " 'Common Pool Resources': 'http://asi.ice.ucdavis.edu/sustsource/schemas/sustsource.owl#IS0004',\n",
       " 'Deforestation': 'http://asi.ice.ucdavis.edu/sustsource/schemas/sustsource.owl#IS0005',\n",
       " 'Disasters': 'http://asi.ice.ucdavis.edu/sustsource/schemas/sustsource.owl#IS0006',\n",
       " 'Diseases': 'http://asi.ice.ucdavis.edu/sustsource/schemas/sustsource.owl#IS0007',\n",
       " 'Ecosystem Services': 'http://asi.ice.ucdavis.edu/sustsource/schemas/sustsource.owl#IS0008',\n",
       " 'Educational Resources': 'http://asi.ice.ucdavis.edu/sustsource/schemas/sustsource.owl#IS0009',\n",
       " 'Energy': 'http://asi.ice.ucdavis.edu/sustsource/schemas/sustsource.owl#IS0010',\n",
       " 'Finance': 'http://asi.ice.ucdavis.edu/sustsource/schemas/sustsource.owl#IS0011',\n",
       " 'Food Production': 'http://asi.ice.ucdavis.edu/sustsource/schemas/sustsource.owl#IS0012',\n",
       " 'Geographical Distribution': 'http://asi.ice.ucdavis.edu/sustsource/schemas/sustsource.owl#IS0013',\n",
       " 'Governance': 'http://asi.ice.ucdavis.edu/sustsource/schemas/sustsource.owl#IS0014',\n",
       " 'Human Mortality': 'http://asi.ice.ucdavis.edu/sustsource/schemas/sustsource.owl#IS0015',\n",
       " 'Human Rights': 'http://asi.ice.ucdavis.edu/sustsource/schemas/sustsource.owl#IS0016',\n",
       " 'Income': 'http://asi.ice.ucdavis.edu/sustsource/schemas/sustsource.owl#IS0017',\n",
       " 'Inputs': 'http://asi.ice.ucdavis.edu/sustsource/schemas/sustsource.owl#IS0018',\n",
       " 'Institutions': 'http://asi.ice.ucdavis.edu/sustsource/schemas/sustsource.owl#IS0019',\n",
       " 'Labor': 'http://asi.ice.ucdavis.edu/sustsource/schemas/sustsource.owl#IS0020',\n",
       " 'Land & Soil': 'http://asi.ice.ucdavis.edu/sustsource/schemas/sustsource.owl#IS0021',\n",
       " 'Literacy': 'http://asi.ice.ucdavis.edu/sustsource/schemas/sustsource.owl#IS0022',\n",
       " 'Markets': 'http://asi.ice.ucdavis.edu/sustsource/schemas/sustsource.owl#IS0023',\n",
       " 'Nutritional Status': 'http://asi.ice.ucdavis.edu/sustsource/schemas/sustsource.owl#IS0024',\n",
       " 'Oceans & Coasts': 'http://asi.ice.ucdavis.edu/sustsource/schemas/sustsource.owl#IS0025',\n",
       " 'Participation': 'http://asi.ice.ucdavis.edu/sustsource/schemas/sustsource.owl#IS0026',\n",
       " 'Physical Infrastructure': 'http://asi.ice.ucdavis.edu/sustsource/schemas/sustsource.owl#IS0027',\n",
       " 'Population Growth': 'http://asi.ice.ucdavis.edu/sustsource/schemas/sustsource.owl#IS0028',\n",
       " 'Population Structure': 'http://asi.ice.ucdavis.edu/sustsource/schemas/sustsource.owl#IS0029',\n",
       " 'Poverty': 'http://asi.ice.ucdavis.edu/sustsource/schemas/sustsource.owl#IS0030',\n",
       " 'Productivity': 'http://asi.ice.ucdavis.edu/sustsource/schemas/sustsource.owl#IS0031',\n",
       " 'Property Rights': 'http://asi.ice.ucdavis.edu/sustsource/schemas/sustsource.owl#IS0032',\n",
       " 'Protected Areas': 'http://asi.ice.ucdavis.edu/sustsource/schemas/sustsource.owl#IS0033',\n",
       " 'Public Health': 'http://asi.ice.ucdavis.edu/sustsource/schemas/sustsource.owl#IS0034',\n",
       " 'Reproductive Health': 'http://asi.ice.ucdavis.edu/sustsource/schemas/sustsource.owl#IS0036',\n",
       " 'Safety': 'http://asi.ice.ucdavis.edu/sustsource/schemas/sustsource.owl#IS0037',\n",
       " 'Social Structure': 'http://asi.ice.ucdavis.edu/sustsource/schemas/sustsource.owl#IS0038',\n",
       " 'Sociocultural Systems': 'http://asi.ice.ucdavis.edu/sustsource/schemas/sustsource.owl#IS0039',\n",
       " 'Technology': 'http://asi.ice.ucdavis.edu/sustsource/schemas/sustsource.owl#IS0040',\n",
       " 'Trade Policies': 'http://asi.ice.ucdavis.edu/sustsource/schemas/sustsource.owl#IS0041',\n",
       " 'Wastes & Pollution': 'http://asi.ice.ucdavis.edu/sustsource/schemas/sustsource.owl#IS0042',\n",
       " 'Water': 'http://asi.ice.ucdavis.edu/sustsource/schemas/sustsource.owl#IS0043',\n",
       " 'Women & Wages': 'http://asi.ice.ucdavis.edu/sustsource/schemas/sustsource.owl#IS0044',\n",
       " \"Women's Participation\": 'http://asi.ice.ucdavis.edu/sustsource/schemas/sustsource.owl#IS0045'}"
      ]
     },
     "execution_count": 199,
     "metadata": {},
     "output_type": "execute_result"
    }
   ],
   "source": [
    "intissuedict"
   ]
  },
  {
   "cell_type": "code",
   "execution_count": 200,
   "metadata": {},
   "outputs": [],
   "source": [
    "# Now for the component issues\n",
    "compissuedict = {}\n",
    "compissueprefix = \"http://asi.ice.ucdavis.edu/sustsource/schemas/sustsourceindiv.rdf#\"\n",
    "for i in range(compissuedf.shape[0]):\n",
    "    compissuedict.update( {compissuedf.iloc[i,1] : compissueprefix + compissuedf.iloc[i,0] })"
   ]
  },
  {
   "cell_type": "code",
   "execution_count": 201,
   "metadata": {
    "scrolled": true
   },
   "outputs": [
    {
     "data": {
      "text/plain": [
       "{'Access to Clean Water': 'http://asi.ice.ucdavis.edu/sustsource/schemas/sustsourceindiv.rdf#CI0001',\n",
       " 'Access to Finance': 'http://asi.ice.ucdavis.edu/sustsource/schemas/sustsourceindiv.rdf#CI0002',\n",
       " 'Access to Healthcare': 'http://asi.ice.ucdavis.edu/sustsource/schemas/sustsourceindiv.rdf#CI0003',\n",
       " 'Access to Information and Communication': 'http://asi.ice.ucdavis.edu/sustsource/schemas/sustsourceindiv.rdf#CI0004',\n",
       " 'Access to Sanitation': 'http://asi.ice.ucdavis.edu/sustsource/schemas/sustsourceindiv.rdf#CI0005',\n",
       " 'Access to Technology': 'http://asi.ice.ucdavis.edu/sustsource/schemas/sustsourceindiv.rdf#CI0006',\n",
       " 'Accident Benefits': 'http://asi.ice.ucdavis.edu/sustsource/schemas/sustsourceindiv.rdf#CI0007',\n",
       " 'Age Distribution': 'http://asi.ice.ucdavis.edu/sustsource/schemas/sustsourceindiv.rdf#CI0008',\n",
       " 'Agricultural Barter': 'http://asi.ice.ucdavis.edu/sustsource/schemas/sustsourceindiv.rdf#CI0009',\n",
       " 'Agricultural Debt': 'http://asi.ice.ucdavis.edu/sustsource/schemas/sustsourceindiv.rdf#CI0010',\n",
       " 'Agricultural Education': 'http://asi.ice.ucdavis.edu/sustsource/schemas/sustsourceindiv.rdf#CI0011',\n",
       " 'Agricultural Employment': 'http://asi.ice.ucdavis.edu/sustsource/schemas/sustsourceindiv.rdf#CI0012',\n",
       " 'Agricultural Exports': 'http://asi.ice.ucdavis.edu/sustsource/schemas/sustsourceindiv.rdf#CI0013',\n",
       " 'Agricultural Imports': 'http://asi.ice.ucdavis.edu/sustsource/schemas/sustsourceindiv.rdf#CI0014',\n",
       " 'Agricultural Intermediate Goods': 'http://asi.ice.ucdavis.edu/sustsource/schemas/sustsourceindiv.rdf#CI0015',\n",
       " 'Agricultural Prices': 'http://asi.ice.ucdavis.edu/sustsource/schemas/sustsourceindiv.rdf#CI0016',\n",
       " 'Agricultural Production Costs': 'http://asi.ice.ucdavis.edu/sustsource/schemas/sustsourceindiv.rdf#CI0017',\n",
       " 'Agricultural Productivity': 'http://asi.ice.ucdavis.edu/sustsource/schemas/sustsourceindiv.rdf#CI0018',\n",
       " 'Agricultural Subsidies': 'http://asi.ice.ucdavis.edu/sustsource/schemas/sustsourceindiv.rdf#CI0019',\n",
       " 'Agricultural Tariffs and Quotas': 'http://asi.ice.ucdavis.edu/sustsource/schemas/sustsourceindiv.rdf#CI0020',\n",
       " 'Agricultural Taxes': 'http://asi.ice.ucdavis.edu/sustsource/schemas/sustsourceindiv.rdf#CI0021',\n",
       " 'Agricultural Value Added': 'http://asi.ice.ucdavis.edu/sustsource/schemas/sustsourceindiv.rdf#CI0022',\n",
       " 'Agrobiodiversity': 'http://asi.ice.ucdavis.edu/sustsource/schemas/sustsourceindiv.rdf#CI0023',\n",
       " 'Air Pollution': 'http://asi.ice.ucdavis.edu/sustsource/schemas/sustsourceindiv.rdf#CI0024',\n",
       " 'Air Quality': 'http://asi.ice.ucdavis.edu/sustsource/schemas/sustsourceindiv.rdf#CI0025',\n",
       " 'Animal Production': 'http://asi.ice.ucdavis.edu/sustsource/schemas/sustsourceindiv.rdf#CI0026',\n",
       " 'Aquaculture': 'http://asi.ice.ucdavis.edu/sustsource/schemas/sustsourceindiv.rdf#CI0027',\n",
       " 'Banking Systems': 'http://asi.ice.ucdavis.edu/sustsource/schemas/sustsourceindiv.rdf#CI0028',\n",
       " 'Basic Needs': 'http://asi.ice.ucdavis.edu/sustsource/schemas/sustsourceindiv.rdf#CI0029',\n",
       " 'Birth Defects': 'http://asi.ice.ucdavis.edu/sustsource/schemas/sustsourceindiv.rdf#CI0030',\n",
       " 'Buildings': 'http://asi.ice.ucdavis.edu/sustsource/schemas/sustsourceindiv.rdf#CI0031',\n",
       " 'Capacity for Participation': 'http://asi.ice.ucdavis.edu/sustsource/schemas/sustsourceindiv.rdf#CI0032',\n",
       " 'Capital Productivity': 'http://asi.ice.ucdavis.edu/sustsource/schemas/sustsourceindiv.rdf#CI0033',\n",
       " 'Carbon Sequestration': 'http://asi.ice.ucdavis.edu/sustsource/schemas/sustsourceindiv.rdf#CI0034',\n",
       " 'Cash Food Crops': 'http://asi.ice.ucdavis.edu/sustsource/schemas/sustsourceindiv.rdf#CI0035',\n",
       " 'Certification': 'http://asi.ice.ucdavis.edu/sustsource/schemas/sustsourceindiv.rdf#CI0036',\n",
       " 'Child Labor': 'http://asi.ice.ucdavis.edu/sustsource/schemas/sustsourceindiv.rdf#CI0037',\n",
       " 'Child Mortality': 'http://asi.ice.ucdavis.edu/sustsource/schemas/sustsourceindiv.rdf#CI0038',\n",
       " 'Civil Rights': 'http://asi.ice.ucdavis.edu/sustsource/schemas/sustsourceindiv.rdf#CI0039',\n",
       " 'Climate Change': 'http://asi.ice.ucdavis.edu/sustsource/schemas/sustsourceindiv.rdf#CI0040',\n",
       " 'Climate Change Adaptation': 'http://asi.ice.ucdavis.edu/sustsource/schemas/sustsourceindiv.rdf#CI0041',\n",
       " 'Commercial Policies': 'http://asi.ice.ucdavis.edu/sustsource/schemas/sustsourceindiv.rdf#CI0042',\n",
       " 'Community Participation': 'http://asi.ice.ucdavis.edu/sustsource/schemas/sustsourceindiv.rdf#CI0043',\n",
       " 'Compensation': 'http://asi.ice.ucdavis.edu/sustsource/schemas/sustsourceindiv.rdf#CI0044',\n",
       " 'Compliance Costs': 'http://asi.ice.ucdavis.edu/sustsource/schemas/sustsourceindiv.rdf#CI0045',\n",
       " 'Contamination': 'http://asi.ice.ucdavis.edu/sustsource/schemas/sustsourceindiv.rdf#CI0046',\n",
       " 'Contraception': 'http://asi.ice.ucdavis.edu/sustsource/schemas/sustsourceindiv.rdf#CI0047',\n",
       " 'Corruption': 'http://asi.ice.ucdavis.edu/sustsource/schemas/sustsourceindiv.rdf#CI0048',\n",
       " 'Crop Yield': 'http://asi.ice.ucdavis.edu/sustsource/schemas/sustsourceindiv.rdf#CI0049',\n",
       " 'Cropping Systems': 'http://asi.ice.ucdavis.edu/sustsource/schemas/sustsourceindiv.rdf#CI0050',\n",
       " 'Cultural Appropriateness of Foods': 'http://asi.ice.ucdavis.edu/sustsource/schemas/sustsourceindiv.rdf#CI0051',\n",
       " 'Cultural Protection and Conservation': 'http://asi.ice.ucdavis.edu/sustsource/schemas/sustsourceindiv.rdf#CI0052',\n",
       " 'Cultural Services': 'http://asi.ice.ucdavis.edu/sustsource/schemas/sustsourceindiv.rdf#CI0053',\n",
       " 'Desertification': 'http://asi.ice.ucdavis.edu/sustsource/schemas/sustsourceindiv.rdf#CI0054',\n",
       " 'Diet': 'http://asi.ice.ucdavis.edu/sustsource/schemas/sustsourceindiv.rdf#CI0055',\n",
       " 'Disaster Mitigation': 'http://asi.ice.ucdavis.edu/sustsource/schemas/sustsourceindiv.rdf#CI0056',\n",
       " 'Disaster Preparedness': 'http://asi.ice.ucdavis.edu/sustsource/schemas/sustsourceindiv.rdf#CI0057',\n",
       " 'Disaster Prevention': 'http://asi.ice.ucdavis.edu/sustsource/schemas/sustsourceindiv.rdf#CI0058',\n",
       " 'Disaster Relief': 'http://asi.ice.ucdavis.edu/sustsource/schemas/sustsourceindiv.rdf#CI0059',\n",
       " 'Disasters - Economic Impact': 'http://asi.ice.ucdavis.edu/sustsource/schemas/sustsourceindiv.rdf#CI0060',\n",
       " 'Disasters - Environmental Impact': 'http://asi.ice.ucdavis.edu/sustsource/schemas/sustsourceindiv.rdf#CI0061',\n",
       " 'Disasters - Health Impact': 'http://asi.ice.ucdavis.edu/sustsource/schemas/sustsourceindiv.rdf#CI0062',\n",
       " 'Disasters - Human and Social Impact': 'http://asi.ice.ucdavis.edu/sustsource/schemas/sustsourceindiv.rdf#CI0063',\n",
       " 'Discrimination': 'http://asi.ice.ucdavis.edu/sustsource/schemas/sustsourceindiv.rdf#CI0064',\n",
       " 'Discrimination in Employment': 'http://asi.ice.ucdavis.edu/sustsource/schemas/sustsourceindiv.rdf#CI0065',\n",
       " 'Disease Incidence - Communicable': 'http://asi.ice.ucdavis.edu/sustsource/schemas/sustsourceindiv.rdf#CI0066',\n",
       " 'Disease Incidence - Noncommunicable': 'http://asi.ice.ucdavis.edu/sustsource/schemas/sustsourceindiv.rdf#CI0067',\n",
       " 'Disease-Related Mortality': 'http://asi.ice.ucdavis.edu/sustsource/schemas/sustsourceindiv.rdf#CI0068',\n",
       " 'Diseases and Pests': 'http://asi.ice.ucdavis.edu/sustsource/schemas/sustsourceindiv.rdf#CI0069',\n",
       " 'Economic Participation': 'http://asi.ice.ucdavis.edu/sustsource/schemas/sustsourceindiv.rdf#CI0070',\n",
       " 'Ecosystem Health': 'http://asi.ice.ucdavis.edu/sustsource/schemas/sustsourceindiv.rdf#CI0071',\n",
       " 'Ecosystem Management': 'http://asi.ice.ucdavis.edu/sustsource/schemas/sustsourceindiv.rdf#CI0072',\n",
       " 'Ecotourism': 'http://asi.ice.ucdavis.edu/sustsource/schemas/sustsourceindiv.rdf#CI0073',\n",
       " 'Education Access': 'http://asi.ice.ucdavis.edu/sustsource/schemas/sustsourceindiv.rdf#CI0074',\n",
       " 'Education Equity': 'http://asi.ice.ucdavis.edu/sustsource/schemas/sustsourceindiv.rdf#CI0075',\n",
       " 'Education Infrastructure': 'http://asi.ice.ucdavis.edu/sustsource/schemas/sustsourceindiv.rdf#CI0076',\n",
       " 'Education Quality': 'http://asi.ice.ucdavis.edu/sustsource/schemas/sustsourceindiv.rdf#CI0077',\n",
       " 'Educational Policies': 'http://asi.ice.ucdavis.edu/sustsource/schemas/sustsourceindiv.rdf#CI0078',\n",
       " 'Employee Rights': 'http://asi.ice.ucdavis.edu/sustsource/schemas/sustsourceindiv.rdf#CI0079',\n",
       " 'Employment at Will': 'http://asi.ice.ucdavis.edu/sustsource/schemas/sustsourceindiv.rdf#CI0080',\n",
       " 'Energy Conservation': 'http://asi.ice.ucdavis.edu/sustsource/schemas/sustsourceindiv.rdf#CI0081',\n",
       " 'Energy Demand': 'http://asi.ice.ucdavis.edu/sustsource/schemas/sustsourceindiv.rdf#CI0082',\n",
       " 'Energy Efficiency': 'http://asi.ice.ucdavis.edu/sustsource/schemas/sustsourceindiv.rdf#CI0083',\n",
       " 'Energy Infrastructure': 'http://asi.ice.ucdavis.edu/sustsource/schemas/sustsourceindiv.rdf#CI0084',\n",
       " 'Energy Policies': 'http://asi.ice.ucdavis.edu/sustsource/schemas/sustsourceindiv.rdf#CI0085',\n",
       " 'Energy Production': 'http://asi.ice.ucdavis.edu/sustsource/schemas/sustsourceindiv.rdf#CI0086',\n",
       " 'Energy Productivity': 'http://asi.ice.ucdavis.edu/sustsource/schemas/sustsourceindiv.rdf#CI0087',\n",
       " 'Energy Security': 'http://asi.ice.ucdavis.edu/sustsource/schemas/sustsourceindiv.rdf#CI0088',\n",
       " 'Enforcement of Laws and Regulations': 'http://asi.ice.ucdavis.edu/sustsource/schemas/sustsourceindiv.rdf#CI0089',\n",
       " 'Equality': 'http://asi.ice.ucdavis.edu/sustsource/schemas/sustsourceindiv.rdf#CI0090',\n",
       " 'Erosion': 'http://asi.ice.ucdavis.edu/sustsource/schemas/sustsourceindiv.rdf#CI0091',\n",
       " 'Ethical Treatment of Animals': 'http://asi.ice.ucdavis.edu/sustsource/schemas/sustsourceindiv.rdf#CI0092',\n",
       " 'Eutrophication': 'http://asi.ice.ucdavis.edu/sustsource/schemas/sustsourceindiv.rdf#CI0093',\n",
       " 'Evapotranspiration': 'http://asi.ice.ucdavis.edu/sustsource/schemas/sustsourceindiv.rdf#CI0094',\n",
       " 'Family Planning': 'http://asi.ice.ucdavis.edu/sustsource/schemas/sustsourceindiv.rdf#CI0095',\n",
       " 'Financial Risk': 'http://asi.ice.ucdavis.edu/sustsource/schemas/sustsourceindiv.rdf#CI0096',\n",
       " 'Fisheries': 'http://asi.ice.ucdavis.edu/sustsource/schemas/sustsourceindiv.rdf#CI0097',\n",
       " 'Fishing & Overfishing': 'http://asi.ice.ucdavis.edu/sustsource/schemas/sustsourceindiv.rdf#CI0098',\n",
       " 'Floods': 'http://asi.ice.ucdavis.edu/sustsource/schemas/sustsourceindiv.rdf#CI0099',\n",
       " 'Food Availability': 'http://asi.ice.ucdavis.edu/sustsource/schemas/sustsourceindiv.rdf#CI0100',\n",
       " 'Food Policies': 'http://asi.ice.ucdavis.edu/sustsource/schemas/sustsourceindiv.rdf#CI0101',\n",
       " 'Food Provisioning': 'http://asi.ice.ucdavis.edu/sustsource/schemas/sustsourceindiv.rdf#CI0102',\n",
       " 'Food Safety': 'http://asi.ice.ucdavis.edu/sustsource/schemas/sustsourceindiv.rdf#CI0103',\n",
       " 'Food Security': 'http://asi.ice.ucdavis.edu/sustsource/schemas/sustsourceindiv.rdf#CI0104',\n",
       " 'Food Security - Household': 'http://asi.ice.ucdavis.edu/sustsource/schemas/sustsourceindiv.rdf#CI0105',\n",
       " 'Food Security - National': 'http://asi.ice.ucdavis.edu/sustsource/schemas/sustsourceindiv.rdf#CI0106',\n",
       " 'Food Wastes': 'http://asi.ice.ucdavis.edu/sustsource/schemas/sustsourceindiv.rdf#CI0107',\n",
       " 'Forced Labor': 'http://asi.ice.ucdavis.edu/sustsource/schemas/sustsourceindiv.rdf#CI0108',\n",
       " 'Forest Canopy Cover': 'http://asi.ice.ucdavis.edu/sustsource/schemas/sustsourceindiv.rdf#CI0109',\n",
       " 'Forest Ecology': 'http://asi.ice.ucdavis.edu/sustsource/schemas/sustsourceindiv.rdf#CI0110',\n",
       " 'Forest Management Practices': 'http://asi.ice.ucdavis.edu/sustsource/schemas/sustsourceindiv.rdf#CI0111',\n",
       " 'Forest Productivity': 'http://asi.ice.ucdavis.edu/sustsource/schemas/sustsourceindiv.rdf#CI0112',\n",
       " 'Forest Products': 'http://asi.ice.ucdavis.edu/sustsource/schemas/sustsourceindiv.rdf#CI0113',\n",
       " 'Forests': 'http://asi.ice.ucdavis.edu/sustsource/schemas/sustsourceindiv.rdf#CI0114',\n",
       " 'Formal Education - Primary': 'http://asi.ice.ucdavis.edu/sustsource/schemas/sustsourceindiv.rdf#CI0115',\n",
       " 'Formal Education - Secondary': 'http://asi.ice.ucdavis.edu/sustsource/schemas/sustsourceindiv.rdf#CI0116',\n",
       " 'Formal Education - Tertiary': 'http://asi.ice.ucdavis.edu/sustsource/schemas/sustsourceindiv.rdf#CI0117',\n",
       " 'Functional Literacy': 'http://asi.ice.ucdavis.edu/sustsource/schemas/sustsourceindiv.rdf#CI0118',\n",
       " 'Gender Equality': 'http://asi.ice.ucdavis.edu/sustsource/schemas/sustsourceindiv.rdf#CI0119',\n",
       " 'Gender Literacy': 'http://asi.ice.ucdavis.edu/sustsource/schemas/sustsourceindiv.rdf#CI0120',\n",
       " 'Gender Policy': 'http://asi.ice.ucdavis.edu/sustsource/schemas/sustsourceindiv.rdf#CI0121',\n",
       " 'Genetic Diversity within Species': 'http://asi.ice.ucdavis.edu/sustsource/schemas/sustsourceindiv.rdf#CI0122',\n",
       " 'Governance Structure': 'http://asi.ice.ucdavis.edu/sustsource/schemas/sustsourceindiv.rdf#CI0123',\n",
       " 'Grasslands': 'http://asi.ice.ucdavis.edu/sustsource/schemas/sustsourceindiv.rdf#CI0124',\n",
       " 'Grazing': 'http://asi.ice.ucdavis.edu/sustsource/schemas/sustsourceindiv.rdf#CI0125',\n",
       " 'Greenhouse Gas Emissions': 'http://asi.ice.ucdavis.edu/sustsource/schemas/sustsourceindiv.rdf#CI0126',\n",
       " 'Greenhouse Gas Mitigation': 'http://asi.ice.ucdavis.edu/sustsource/schemas/sustsourceindiv.rdf#CI0127',\n",
       " 'Groundwater Contamination': 'http://asi.ice.ucdavis.edu/sustsource/schemas/sustsourceindiv.rdf#CI0128',\n",
       " 'Groundwater Recharge and Overdraft': 'http://asi.ice.ucdavis.edu/sustsource/schemas/sustsourceindiv.rdf#CI0129',\n",
       " 'Habitats': 'http://asi.ice.ucdavis.edu/sustsource/schemas/sustsourceindiv.rdf#CI0130',\n",
       " 'Harrassment': 'http://asi.ice.ucdavis.edu/sustsource/schemas/sustsourceindiv.rdf#CI0131',\n",
       " 'Hazardous Wastes--Management': 'http://asi.ice.ucdavis.edu/sustsource/schemas/sustsourceindiv.rdf#CI0132',\n",
       " 'Health Care Infrastructure': 'http://asi.ice.ucdavis.edu/sustsource/schemas/sustsourceindiv.rdf#CI0133',\n",
       " 'Human Exposure': 'http://asi.ice.ucdavis.edu/sustsource/schemas/sustsourceindiv.rdf#CI0134',\n",
       " 'Human Rights Advocacy': 'http://asi.ice.ucdavis.edu/sustsource/schemas/sustsourceindiv.rdf#CI0135',\n",
       " 'Human Rights Monitoring': 'http://asi.ice.ucdavis.edu/sustsource/schemas/sustsourceindiv.rdf#CI0136',\n",
       " 'Human Use of Protected Areas': 'http://asi.ice.ucdavis.edu/sustsource/schemas/sustsourceindiv.rdf#CI0137',\n",
       " 'Immunization': 'http://asi.ice.ucdavis.edu/sustsource/schemas/sustsourceindiv.rdf#CI0138',\n",
       " 'Income Distribution': 'http://asi.ice.ucdavis.edu/sustsource/schemas/sustsourceindiv.rdf#CI0139',\n",
       " 'Income Generation': 'http://asi.ice.ucdavis.edu/sustsource/schemas/sustsourceindiv.rdf#CI0140',\n",
       " 'Income Growth': 'http://asi.ice.ucdavis.edu/sustsource/schemas/sustsourceindiv.rdf#CI0141',\n",
       " 'Income Smoothing': 'http://asi.ice.ucdavis.edu/sustsource/schemas/sustsourceindiv.rdf#CI0142',\n",
       " 'Income Stability': 'http://asi.ice.ucdavis.edu/sustsource/schemas/sustsourceindiv.rdf#CI0143',\n",
       " 'Income Sufficiency': 'http://asi.ice.ucdavis.edu/sustsource/schemas/sustsourceindiv.rdf#CI0144',\n",
       " 'Indigenous Technology and Knowledge': 'http://asi.ice.ucdavis.edu/sustsource/schemas/sustsourceindiv.rdf#CI0145',\n",
       " 'Inflation': 'http://asi.ice.ucdavis.edu/sustsource/schemas/sustsourceindiv.rdf#CI0146',\n",
       " 'Informal Education': 'http://asi.ice.ucdavis.edu/sustsource/schemas/sustsourceindiv.rdf#CI0147',\n",
       " 'Information Infrastructure': 'http://asi.ice.ucdavis.edu/sustsource/schemas/sustsourceindiv.rdf#CI0148',\n",
       " 'Inorganic Fertilizers': 'http://asi.ice.ucdavis.edu/sustsource/schemas/sustsourceindiv.rdf#CI0149',\n",
       " 'Input Productivity': 'http://asi.ice.ucdavis.edu/sustsource/schemas/sustsourceindiv.rdf#CI0150',\n",
       " 'Insurance': 'http://asi.ice.ucdavis.edu/sustsource/schemas/sustsourceindiv.rdf#CI0151',\n",
       " 'Interest Rates': 'http://asi.ice.ucdavis.edu/sustsource/schemas/sustsourceindiv.rdf#CI0152',\n",
       " 'Intraregional Trade (Domestic Trade)': 'http://asi.ice.ucdavis.edu/sustsource/schemas/sustsourceindiv.rdf#CI0153',\n",
       " 'Invasive Species': 'http://asi.ice.ucdavis.edu/sustsource/schemas/sustsourceindiv.rdf#CI0154',\n",
       " 'Investment': 'http://asi.ice.ucdavis.edu/sustsource/schemas/sustsourceindiv.rdf#CI0155',\n",
       " 'Investment in Education': 'http://asi.ice.ucdavis.edu/sustsource/schemas/sustsourceindiv.rdf#CI0156',\n",
       " 'Investment In Health': 'http://asi.ice.ucdavis.edu/sustsource/schemas/sustsourceindiv.rdf#CI0157',\n",
       " 'Irrigation': 'http://asi.ice.ucdavis.edu/sustsource/schemas/sustsourceindiv.rdf#CI0158',\n",
       " 'Job Security': 'http://asi.ice.ucdavis.edu/sustsource/schemas/sustsourceindiv.rdf#CI0159',\n",
       " 'Knowledge and Information Systems': 'http://asi.ice.ucdavis.edu/sustsource/schemas/sustsourceindiv.rdf#CI0160',\n",
       " 'Labor Costs': 'http://asi.ice.ucdavis.edu/sustsource/schemas/sustsourceindiv.rdf#CI0161',\n",
       " 'Labor Market': 'http://asi.ice.ucdavis.edu/sustsource/schemas/sustsourceindiv.rdf#CI0162',\n",
       " 'Labor Policy': 'http://asi.ice.ucdavis.edu/sustsource/schemas/sustsourceindiv.rdf#CI0163',\n",
       " 'Labor Productivity': 'http://asi.ice.ucdavis.edu/sustsource/schemas/sustsourceindiv.rdf#CI0164',\n",
       " 'Labor Supply': 'http://asi.ice.ucdavis.edu/sustsource/schemas/sustsourceindiv.rdf#CI0165',\n",
       " 'Land Cover': 'http://asi.ice.ucdavis.edu/sustsource/schemas/sustsourceindiv.rdf#CI0166',\n",
       " 'Land Fragmentation': 'http://asi.ice.ucdavis.edu/sustsource/schemas/sustsourceindiv.rdf#CI0167',\n",
       " 'Land Productivity': 'http://asi.ice.ucdavis.edu/sustsource/schemas/sustsourceindiv.rdf#CI0168',\n",
       " 'Land Tenure': 'http://asi.ice.ucdavis.edu/sustsource/schemas/sustsourceindiv.rdf#CI0169',\n",
       " 'Land Use': 'http://asi.ice.ucdavis.edu/sustsource/schemas/sustsourceindiv.rdf#CI0170',\n",
       " 'Landscape Changes': 'http://asi.ice.ucdavis.edu/sustsource/schemas/sustsourceindiv.rdf#CI0171',\n",
       " 'Landscape Protection': 'http://asi.ice.ucdavis.edu/sustsource/schemas/sustsourceindiv.rdf#CI0172',\n",
       " 'Laws and Regulations': 'http://asi.ice.ucdavis.edu/sustsource/schemas/sustsourceindiv.rdf#CI0173',\n",
       " 'Livestock Feed': 'http://asi.ice.ucdavis.edu/sustsource/schemas/sustsourceindiv.rdf#CI0174',\n",
       " 'Livestock Management': 'http://asi.ice.ucdavis.edu/sustsource/schemas/sustsourceindiv.rdf#CI0175',\n",
       " 'Machinery': 'http://asi.ice.ucdavis.edu/sustsource/schemas/sustsourceindiv.rdf#CI0176',\n",
       " 'Manmade Disasters': 'http://asi.ice.ucdavis.edu/sustsource/schemas/sustsourceindiv.rdf#CI0177',\n",
       " 'Marine Economics': 'http://asi.ice.ucdavis.edu/sustsource/schemas/sustsourceindiv.rdf#CI0178',\n",
       " 'Marine Protected Areas': 'http://asi.ice.ucdavis.edu/sustsource/schemas/sustsourceindiv.rdf#CI0179',\n",
       " 'Maritime Law': 'http://asi.ice.ucdavis.edu/sustsource/schemas/sustsourceindiv.rdf#CI0180',\n",
       " 'Market Access': 'http://asi.ice.ucdavis.edu/sustsource/schemas/sustsourceindiv.rdf#CI0181',\n",
       " 'Market Infrastructure': 'http://asi.ice.ucdavis.edu/sustsource/schemas/sustsourceindiv.rdf#CI0182',\n",
       " 'Market Performance': 'http://asi.ice.ucdavis.edu/sustsource/schemas/sustsourceindiv.rdf#CI0183',\n",
       " 'Market Standards, Regulations, and Policies': 'http://asi.ice.ucdavis.edu/sustsource/schemas/sustsourceindiv.rdf#CI0184',\n",
       " 'Market Structure': 'http://asi.ice.ucdavis.edu/sustsource/schemas/sustsourceindiv.rdf#CI0185',\n",
       " 'Market Support': 'http://asi.ice.ucdavis.edu/sustsource/schemas/sustsourceindiv.rdf#CI0186',\n",
       " 'Market Transparency': 'http://asi.ice.ucdavis.edu/sustsource/schemas/sustsourceindiv.rdf#CI0187',\n",
       " 'Maternal Health Services': 'http://asi.ice.ucdavis.edu/sustsource/schemas/sustsourceindiv.rdf#CI0188',\n",
       " 'Maternal Mortality': 'http://asi.ice.ucdavis.edu/sustsource/schemas/sustsourceindiv.rdf#CI0189',\n",
       " 'Migrant Labor': 'http://asi.ice.ucdavis.edu/sustsource/schemas/sustsourceindiv.rdf#CI0190',\n",
       " 'Migration': 'http://asi.ice.ucdavis.edu/sustsource/schemas/sustsourceindiv.rdf#CI0191',\n",
       " 'Natural Disasters': 'http://asi.ice.ucdavis.edu/sustsource/schemas/sustsourceindiv.rdf#CI0192',\n",
       " 'Non-Hazardous Waste Management': 'http://asi.ice.ucdavis.edu/sustsource/schemas/sustsourceindiv.rdf#CI0193',\n",
       " 'Non-Renewable Energy': 'http://asi.ice.ucdavis.edu/sustsource/schemas/sustsourceindiv.rdf#CI0194',\n",
       " 'Nutritional Value': 'http://asi.ice.ucdavis.edu/sustsource/schemas/sustsourceindiv.rdf#CI0195',\n",
       " 'Occupational Accidents': 'http://asi.ice.ucdavis.edu/sustsource/schemas/sustsourceindiv.rdf#CI0196',\n",
       " 'Occupational Diseases': 'http://asi.ice.ucdavis.edu/sustsource/schemas/sustsourceindiv.rdf#CI0197',\n",
       " 'Occupational Health': 'http://asi.ice.ucdavis.edu/sustsource/schemas/sustsourceindiv.rdf#CI0198',\n",
       " 'Occupational Mortality': 'http://asi.ice.ucdavis.edu/sustsource/schemas/sustsourceindiv.rdf#CI0199',\n",
       " 'Occupational Safety': 'http://asi.ice.ucdavis.edu/sustsource/schemas/sustsourceindiv.rdf#CI0200',\n",
       " 'Occupational Segregation': 'http://asi.ice.ucdavis.edu/sustsource/schemas/sustsourceindiv.rdf#CI0201',\n",
       " 'Ocean Acidification': 'http://asi.ice.ucdavis.edu/sustsource/schemas/sustsourceindiv.rdf#CI0202',\n",
       " 'Ocean Circulation': 'http://asi.ice.ucdavis.edu/sustsource/schemas/sustsourceindiv.rdf#CI0203',\n",
       " 'Organic Fertilizers': 'http://asi.ice.ucdavis.edu/sustsource/schemas/sustsourceindiv.rdf#CI0204',\n",
       " 'Other Trade Restrictions': 'http://asi.ice.ucdavis.edu/sustsource/schemas/sustsourceindiv.rdf#CI0205',\n",
       " 'Overnutrition': 'http://asi.ice.ucdavis.edu/sustsource/schemas/sustsourceindiv.rdf#CI0206',\n",
       " 'Ozone Depletion': 'http://asi.ice.ucdavis.edu/sustsource/schemas/sustsourceindiv.rdf#CI0207',\n",
       " 'Pay Equity': 'http://asi.ice.ucdavis.edu/sustsource/schemas/sustsourceindiv.rdf#CI0208',\n",
       " 'Persistence of Poverty': 'http://asi.ice.ucdavis.edu/sustsource/schemas/sustsourceindiv.rdf#CI0209',\n",
       " 'Pesticides': 'http://asi.ice.ucdavis.edu/sustsource/schemas/sustsourceindiv.rdf#CI0210',\n",
       " 'Pharmaceutical Products': 'http://asi.ice.ucdavis.edu/sustsource/schemas/sustsourceindiv.rdf#CI0211',\n",
       " 'Political Participation': 'http://asi.ice.ucdavis.edu/sustsource/schemas/sustsourceindiv.rdf#CI0212',\n",
       " 'Pollination': 'http://asi.ice.ucdavis.edu/sustsource/schemas/sustsourceindiv.rdf#CI0213',\n",
       " 'Pollution Prevention': 'http://asi.ice.ucdavis.edu/sustsource/schemas/sustsourceindiv.rdf#CI0214',\n",
       " 'Population Density': 'http://asi.ice.ucdavis.edu/sustsource/schemas/sustsourceindiv.rdf#CI0215',\n",
       " 'Population Dynamics': 'http://asi.ice.ucdavis.edu/sustsource/schemas/sustsourceindiv.rdf#CI0216',\n",
       " 'Postnatal Care': 'http://asi.ice.ucdavis.edu/sustsource/schemas/sustsourceindiv.rdf#CI0218',\n",
       " 'Potable Water': 'http://asi.ice.ucdavis.edu/sustsource/schemas/sustsourceindiv.rdf#CI0219',\n",
       " 'Poverty Alleviation Measures': 'http://asi.ice.ucdavis.edu/sustsource/schemas/sustsourceindiv.rdf#CI0220',\n",
       " 'Poverty Incidence': 'http://asi.ice.ucdavis.edu/sustsource/schemas/sustsourceindiv.rdf#CI0221',\n",
       " 'Precipitation': 'http://asi.ice.ucdavis.edu/sustsource/schemas/sustsourceindiv.rdf#CI0222',\n",
       " 'Prenatal Care': 'http://asi.ice.ucdavis.edu/sustsource/schemas/sustsourceindiv.rdf#CI0223',\n",
       " 'Prices': 'http://asi.ice.ucdavis.edu/sustsource/schemas/sustsourceindiv.rdf#CI0224',\n",
       " 'Profitability': 'http://asi.ice.ucdavis.edu/sustsource/schemas/sustsourceindiv.rdf#CI0225',\n",
       " 'Property Transfers': 'http://asi.ice.ucdavis.edu/sustsource/schemas/sustsourceindiv.rdf#CI0226',\n",
       " 'Protected Area Encroachment': 'http://asi.ice.ucdavis.edu/sustsource/schemas/sustsourceindiv.rdf#CI0227',\n",
       " 'Protected Areas--Management': 'http://asi.ice.ucdavis.edu/sustsource/schemas/sustsourceindiv.rdf#CI0228',\n",
       " 'Protection of Threatened & Rare Ecosystems': 'http://asi.ice.ucdavis.edu/sustsource/schemas/sustsourceindiv.rdf#CI0229',\n",
       " 'Public Health Initiatives': 'http://asi.ice.ucdavis.edu/sustsource/schemas/sustsourceindiv.rdf#CI0230',\n",
       " 'Quotas and Quantitative Restrictions': 'http://asi.ice.ucdavis.edu/sustsource/schemas/sustsourceindiv.rdf#CI0231',\n",
       " 'Rates of Waste Production': 'http://asi.ice.ucdavis.edu/sustsource/schemas/sustsourceindiv.rdf#CI0232',\n",
       " 'Raw Materials': 'http://asi.ice.ucdavis.edu/sustsource/schemas/sustsourceindiv.rdf#CI0233',\n",
       " 'Refugees': 'http://asi.ice.ucdavis.edu/sustsource/schemas/sustsourceindiv.rdf#CI0234',\n",
       " 'Remedial Action (Pollution)': 'http://asi.ice.ucdavis.edu/sustsource/schemas/sustsourceindiv.rdf#CI0235',\n",
       " 'Renewable Energy': 'http://asi.ice.ucdavis.edu/sustsource/schemas/sustsourceindiv.rdf#CI0236',\n",
       " 'Representation and Accountability': 'http://asi.ice.ucdavis.edu/sustsource/schemas/sustsourceindiv.rdf#CI0237',\n",
       " 'Research and Development': 'http://asi.ice.ucdavis.edu/sustsource/schemas/sustsourceindiv.rdf#CI0238',\n",
       " 'Resource Rights': 'http://asi.ice.ucdavis.edu/sustsource/schemas/sustsourceindiv.rdf#CI0239',\n",
       " 'Retained Earnings': 'http://asi.ice.ucdavis.edu/sustsource/schemas/sustsourceindiv.rdf#CI0240',\n",
       " 'Right to Property - Customary': 'http://asi.ice.ucdavis.edu/sustsource/schemas/sustsourceindiv.rdf#CI0241',\n",
       " 'Right to Property - Formal': 'http://asi.ice.ucdavis.edu/sustsource/schemas/sustsourceindiv.rdf#CI0242',\n",
       " 'Rights (Legal)': 'http://asi.ice.ucdavis.edu/sustsource/schemas/sustsourceindiv.rdf#CI0243',\n",
       " 'Rule of Law': 'http://asi.ice.ucdavis.edu/sustsource/schemas/sustsourceindiv.rdf#CI0244',\n",
       " 'Runoff': 'http://asi.ice.ucdavis.edu/sustsource/schemas/sustsourceindiv.rdf#CI0245',\n",
       " 'Rural Poor': 'http://asi.ice.ucdavis.edu/sustsource/schemas/sustsourceindiv.rdf#CI0246',\n",
       " 'Rural Population': 'http://asi.ice.ucdavis.edu/sustsource/schemas/sustsourceindiv.rdf#CI0247',\n",
       " 'Safety Education': 'http://asi.ice.ucdavis.edu/sustsource/schemas/sustsourceindiv.rdf#CI0248',\n",
       " 'Saline Water': 'http://asi.ice.ucdavis.edu/sustsource/schemas/sustsourceindiv.rdf#CI0249',\n",
       " 'Sea Level Rise': 'http://asi.ice.ucdavis.edu/sustsource/schemas/sustsourceindiv.rdf#CI0250',\n",
       " 'Sea Pollution': 'http://asi.ice.ucdavis.edu/sustsource/schemas/sustsourceindiv.rdf#CI0251',\n",
       " 'Seed': 'http://asi.ice.ucdavis.edu/sustsource/schemas/sustsourceindiv.rdf#CI0252',\n",
       " 'Sex Ratio': 'http://asi.ice.ucdavis.edu/sustsource/schemas/sustsourceindiv.rdf#CI0253',\n",
       " 'Sexually Transmitted Diseases': 'http://asi.ice.ucdavis.edu/sustsource/schemas/sustsourceindiv.rdf#CI0254',\n",
       " 'Social Networks': 'http://asi.ice.ucdavis.edu/sustsource/schemas/sustsourceindiv.rdf#CI0255',\n",
       " 'Social Participation': 'http://asi.ice.ucdavis.edu/sustsource/schemas/sustsourceindiv.rdf#CI0256',\n",
       " 'Social Stratification': 'http://asi.ice.ucdavis.edu/sustsource/schemas/sustsourceindiv.rdf#CI0257',\n",
       " 'Social Support': 'http://asi.ice.ucdavis.edu/sustsource/schemas/sustsourceindiv.rdf#CI0258',\n",
       " 'Soil Chemistry': 'http://asi.ice.ucdavis.edu/sustsource/schemas/sustsourceindiv.rdf#CI0259',\n",
       " 'Soil Pollution': 'http://asi.ice.ucdavis.edu/sustsource/schemas/sustsourceindiv.rdf#CI0260',\n",
       " 'Soil Salinization': 'http://asi.ice.ucdavis.edu/sustsource/schemas/sustsourceindiv.rdf#CI0261',\n",
       " 'Soils--Quality': 'http://asi.ice.ucdavis.edu/sustsource/schemas/sustsourceindiv.rdf#CI0262',\n",
       " 'Sources of Financial Capital': 'http://asi.ice.ucdavis.edu/sustsource/schemas/sustsourceindiv.rdf#CI0263',\n",
       " 'Species Diversity': 'http://asi.ice.ucdavis.edu/sustsource/schemas/sustsourceindiv.rdf#CI0264',\n",
       " 'Species Introduction': 'http://asi.ice.ucdavis.edu/sustsource/schemas/sustsourceindiv.rdf#CI0265',\n",
       " 'Species Migration': 'http://asi.ice.ucdavis.edu/sustsource/schemas/sustsourceindiv.rdf#CI0266',\n",
       " 'Species Threatened with Extinction': 'http://asi.ice.ucdavis.edu/sustsource/schemas/sustsourceindiv.rdf#CI0267',\n",
       " 'Stakeholder Participation': 'http://asi.ice.ucdavis.edu/sustsource/schemas/sustsourceindiv.rdf#CI0268',\n",
       " 'Staple Food Production': 'http://asi.ice.ucdavis.edu/sustsource/schemas/sustsourceindiv.rdf#CI0269',\n",
       " 'Supply/Value Chain Structure': 'http://asi.ice.ucdavis.edu/sustsource/schemas/sustsourceindiv.rdf#CI0270',\n",
       " 'Tariffs, Taxes, Subsidies': 'http://asi.ice.ucdavis.edu/sustsource/schemas/sustsourceindiv.rdf#CI0271',\n",
       " 'Teacher Education': 'http://asi.ice.ucdavis.edu/sustsource/schemas/sustsourceindiv.rdf#CI0272',\n",
       " 'Technological Expertise': 'http://asi.ice.ucdavis.edu/sustsource/schemas/sustsourceindiv.rdf#CI0273',\n",
       " 'Technology Innovation': 'http://asi.ice.ucdavis.edu/sustsource/schemas/sustsourceindiv.rdf#CI0274',\n",
       " 'Technology Trade': 'http://asi.ice.ucdavis.edu/sustsource/schemas/sustsourceindiv.rdf#CI0275',\n",
       " 'Technology Transfer': 'http://asi.ice.ucdavis.edu/sustsource/schemas/sustsourceindiv.rdf#CI0276',\n",
       " 'Terrestrial Protected Areas': 'http://asi.ice.ucdavis.edu/sustsource/schemas/sustsourceindiv.rdf#CI0277',\n",
       " 'Topography': 'http://asi.ice.ucdavis.edu/sustsource/schemas/sustsourceindiv.rdf#CI0278',\n",
       " 'Trade Agreements': 'http://asi.ice.ucdavis.edu/sustsource/schemas/sustsourceindiv.rdf#CI0279',\n",
       " 'Transfer of Energy': 'http://asi.ice.ucdavis.edu/sustsource/schemas/sustsourceindiv.rdf#CI0280',\n",
       " 'Transparency in Government': 'http://asi.ice.ucdavis.edu/sustsource/schemas/sustsourceindiv.rdf#CI0281',\n",
       " 'Transport Infrastructure': 'http://asi.ice.ucdavis.edu/sustsource/schemas/sustsourceindiv.rdf#CI0282',\n",
       " 'Undernutrition - Acute': 'http://asi.ice.ucdavis.edu/sustsource/schemas/sustsourceindiv.rdf#CI0283',\n",
       " 'Undernutrition - Chronic': 'http://asi.ice.ucdavis.edu/sustsource/schemas/sustsourceindiv.rdf#CI0284',\n",
       " 'Urban Poor': 'http://asi.ice.ucdavis.edu/sustsource/schemas/sustsourceindiv.rdf#CI0285',\n",
       " 'Urban Population': 'http://asi.ice.ucdavis.edu/sustsource/schemas/sustsourceindiv.rdf#CI0286',\n",
       " 'Urbanization': 'http://asi.ice.ucdavis.edu/sustsource/schemas/sustsourceindiv.rdf#CI0287',\n",
       " 'Use Rights': 'http://asi.ice.ucdavis.edu/sustsource/schemas/sustsourceindiv.rdf#CI0288',\n",
       " 'Value Systems and Behavioral Norms': 'http://asi.ice.ucdavis.edu/sustsource/schemas/sustsourceindiv.rdf#CI0289',\n",
       " 'Veterinary Services': 'http://asi.ice.ucdavis.edu/sustsource/schemas/sustsourceindiv.rdf#CI0290',\n",
       " 'Violence Against Women Policy': 'http://asi.ice.ucdavis.edu/sustsource/schemas/sustsourceindiv.rdf#CI0291',\n",
       " 'Violence-Related Mortality': 'http://asi.ice.ucdavis.edu/sustsource/schemas/sustsourceindiv.rdf#CI0292',\n",
       " 'Vocational Education': 'http://asi.ice.ucdavis.edu/sustsource/schemas/sustsourceindiv.rdf#CI0293',\n",
       " 'Volatility, Risk and Stability': 'http://asi.ice.ucdavis.edu/sustsource/schemas/sustsourceindiv.rdf#CI0294',\n",
       " 'Waste Composting': 'http://asi.ice.ucdavis.edu/sustsource/schemas/sustsourceindiv.rdf#CI0295',\n",
       " 'Waste Prevention': 'http://asi.ice.ucdavis.edu/sustsource/schemas/sustsourceindiv.rdf#CI0296',\n",
       " 'Waste Recycling/Reusing': 'http://asi.ice.ucdavis.edu/sustsource/schemas/sustsourceindiv.rdf#CI0297',\n",
       " 'Waste/Pollution Policy': 'http://asi.ice.ucdavis.edu/sustsource/schemas/sustsourceindiv.rdf#CI0298',\n",
       " 'Wastewater': 'http://asi.ice.ucdavis.edu/sustsource/schemas/sustsourceindiv.rdf#CI0299',\n",
       " 'Water Availability': 'http://asi.ice.ucdavis.edu/sustsource/schemas/sustsourceindiv.rdf#CI0300',\n",
       " 'Water Infrastructure': 'http://asi.ice.ucdavis.edu/sustsource/schemas/sustsourceindiv.rdf#CI0301',\n",
       " 'Water Productivity': 'http://asi.ice.ucdavis.edu/sustsource/schemas/sustsourceindiv.rdf#CI0302',\n",
       " 'Water Quality': 'http://asi.ice.ucdavis.edu/sustsource/schemas/sustsourceindiv.rdf#CI0303',\n",
       " 'Water Rights': 'http://asi.ice.ucdavis.edu/sustsource/schemas/sustsourceindiv.rdf#CI0304',\n",
       " 'Water Storage': 'http://asi.ice.ucdavis.edu/sustsource/schemas/sustsourceindiv.rdf#CI0305',\n",
       " 'Water Use': 'http://asi.ice.ucdavis.edu/sustsource/schemas/sustsourceindiv.rdf#CI0306',\n",
       " 'Water Use Efficiency': 'http://asi.ice.ucdavis.edu/sustsource/schemas/sustsourceindiv.rdf#CI0307',\n",
       " 'Weather Hazards': 'http://asi.ice.ucdavis.edu/sustsource/schemas/sustsourceindiv.rdf#CI0308',\n",
       " 'Wetlands': 'http://asi.ice.ucdavis.edu/sustsource/schemas/sustsourceindiv.rdf#CI0309',\n",
       " 'Wild Animal Trade': 'http://asi.ice.ucdavis.edu/sustsource/schemas/sustsourceindiv.rdf#CI0310',\n",
       " 'Women Farmers': 'http://asi.ice.ucdavis.edu/sustsource/schemas/sustsourceindiv.rdf#CI0311',\n",
       " \"Women's Access to Financial Capital\": 'http://asi.ice.ucdavis.edu/sustsource/schemas/sustsourceindiv.rdf#CI0312',\n",
       " \"Women's Access to Social Capital\": 'http://asi.ice.ucdavis.edu/sustsource/schemas/sustsourceindiv.rdf#CI0313',\n",
       " \"Women's Economic Participation\": 'http://asi.ice.ucdavis.edu/sustsource/schemas/sustsourceindiv.rdf#CI0314',\n",
       " \"Women's Political Participation\": 'http://asi.ice.ucdavis.edu/sustsource/schemas/sustsourceindiv.rdf#CI0315',\n",
       " 'Work Satisfaction': 'http://asi.ice.ucdavis.edu/sustsource/schemas/sustsourceindiv.rdf#CI0316',\n",
       " 'Working Conditions': 'http://asi.ice.ucdavis.edu/sustsource/schemas/sustsourceindiv.rdf#CI0317',\n",
       " 'Youth Literacy': 'http://asi.ice.ucdavis.edu/sustsource/schemas/sustsourceindiv.rdf#CI0318',\n",
       " 'Access to Nature': 'http://asi.ice.ucdavis.edu/sustsource/schemas/sustsourceindiv.rdf#CI0319',\n",
       " 'Wildfire': 'http://asi.ice.ucdavis.edu/sustsource/schemas/sustsourceindiv.rdf#CI0320',\n",
       " 'Riparian Habitats': 'http://asi.ice.ucdavis.edu/sustsource/schemas/sustsourceindiv.rdf#CI0321',\n",
       " 'Drought': 'http://asi.ice.ucdavis.edu/sustsource/schemas/sustsourceindiv.rdf#CI0322',\n",
       " 'Housing': 'http://asi.ice.ucdavis.edu/sustsource/schemas/sustsourceindiv.rdf#CI0323',\n",
       " 'Travel/transit/commuting': 'http://asi.ice.ucdavis.edu/sustsource/schemas/sustsourceindiv.rdf#CI0324',\n",
       " 'Tourism': 'http://asi.ice.ucdavis.edu/sustsource/schemas/sustsourceindiv.rdf#CI0325',\n",
       " 'Water Quantity': 'http://asi.ice.ucdavis.edu/sustsource/schemas/sustsourceindiv.rdf#CI0326'}"
      ]
     },
     "execution_count": 201,
     "metadata": {},
     "output_type": "execute_result"
    }
   ],
   "source": [
    "compissuedict"
   ]
  },
  {
   "cell_type": "code",
   "execution_count": 202,
   "metadata": {},
   "outputs": [],
   "source": [
    "# we want to merge these two dictionaries\n",
    "issuedict = {**compissuedict , **intissuedict} "
   ]
  },
  {
   "cell_type": "markdown",
   "metadata": {},
   "source": [
    "#### Counties\n",
    "After some search, have opted to use Wikidata URIs for the California counties. I grabbed these from Wikidata using their SPARQL query interface."
   ]
  },
  {
   "cell_type": "code",
   "execution_count": 203,
   "metadata": {},
   "outputs": [],
   "source": [
    "counties_wd = pd.read_csv('CACounties_WD.csv')"
   ]
  },
  {
   "cell_type": "code",
   "execution_count": 204,
   "metadata": {},
   "outputs": [],
   "source": [
    "countydict = {}\n",
    "for i in range(counties_wd.shape[0]):\n",
    "    countydict.update( {counties_wd.iloc[i,1] : counties_wd.iloc[i,0] })"
   ]
  },
  {
   "cell_type": "code",
   "execution_count": 205,
   "metadata": {},
   "outputs": [
    {
     "data": {
      "text/plain": [
       "{'Alameda': 'http://www.wikidata.org/entity/Q107146',\n",
       " 'Alpine': 'http://www.wikidata.org/entity/Q108077',\n",
       " 'Amador': 'http://www.wikidata.org/entity/Q156177',\n",
       " 'Butte': 'http://www.wikidata.org/entity/Q156181',\n",
       " 'Calaveras': 'http://www.wikidata.org/entity/Q271613',\n",
       " 'Colusa': 'http://www.wikidata.org/entity/Q271609',\n",
       " 'Contra Costa': 'http://www.wikidata.org/entity/Q108058',\n",
       " 'Del Norte': 'http://www.wikidata.org/entity/Q156186',\n",
       " 'El Dorado': 'http://www.wikidata.org/entity/Q108093',\n",
       " 'Fresno': 'http://www.wikidata.org/entity/Q271915',\n",
       " 'Glenn': 'http://www.wikidata.org/entity/Q271601',\n",
       " 'Humboldt': 'http://www.wikidata.org/entity/Q109651',\n",
       " 'Imperial': 'http://www.wikidata.org/entity/Q169952',\n",
       " 'Inyo': 'http://www.wikidata.org/entity/Q109670',\n",
       " 'Kern': 'http://www.wikidata.org/entity/Q108047',\n",
       " 'Kings': 'http://www.wikidata.org/entity/Q156358',\n",
       " 'Lake': 'http://www.wikidata.org/entity/Q156361',\n",
       " 'Lassen': 'http://www.wikidata.org/entity/Q156340',\n",
       " 'Los Angeles': 'http://www.wikidata.org/entity/Q104994',\n",
       " 'Madera': 'http://www.wikidata.org/entity/Q109661',\n",
       " 'Marin': 'http://www.wikidata.org/entity/Q108117',\n",
       " 'Mariposa': 'http://www.wikidata.org/entity/Q156191',\n",
       " 'Mendocino': 'http://www.wikidata.org/entity/Q108087',\n",
       " 'Merced': 'http://www.wikidata.org/entity/Q109690',\n",
       " 'Modoc': 'http://www.wikidata.org/entity/Q109695',\n",
       " 'Mono': 'http://www.wikidata.org/entity/Q156366',\n",
       " 'Monterey': 'http://www.wikidata.org/entity/Q108072',\n",
       " 'Napa': 'http://www.wikidata.org/entity/Q108137',\n",
       " 'Nevada': 'http://www.wikidata.org/entity/Q109681',\n",
       " 'Orange': 'http://www.wikidata.org/entity/Q5925',\n",
       " 'Placer': 'http://www.wikidata.org/entity/Q156353',\n",
       " 'Plumas': 'http://www.wikidata.org/entity/Q156342',\n",
       " 'Riverside': 'http://www.wikidata.org/entity/Q108111',\n",
       " 'Sacramento': 'http://www.wikidata.org/entity/Q108131',\n",
       " 'San Benito': 'http://www.wikidata.org/entity/Q109656',\n",
       " 'San Bernardino': 'http://www.wikidata.org/entity/Q108053',\n",
       " 'San Diego': 'http://www.wikidata.org/entity/Q108143',\n",
       " 'San Francisco': 'http://www.wikidata.org/entity/Q13188841',\n",
       " 'San Joaquin': 'http://www.wikidata.org/entity/Q108499',\n",
       " 'San Luis Obispo': 'http://www.wikidata.org/entity/Q49014',\n",
       " 'San Mateo': 'http://www.wikidata.org/entity/Q108101',\n",
       " 'Santa Barbara': 'http://www.wikidata.org/entity/Q108106',\n",
       " 'Santa Clara': 'http://www.wikidata.org/entity/Q110739',\n",
       " 'Santa Cruz': 'http://www.wikidata.org/entity/Q108122',\n",
       " 'Shasta': 'http://www.wikidata.org/entity/Q156350',\n",
       " 'Sierra': 'http://www.wikidata.org/entity/Q156370',\n",
       " 'Siskiyou': 'http://www.wikidata.org/entity/Q156374',\n",
       " 'Solano': 'http://www.wikidata.org/entity/Q108083',\n",
       " 'Sonoma': 'http://www.wikidata.org/entity/Q108067',\n",
       " 'Stanislaus': 'http://www.wikidata.org/entity/Q108503',\n",
       " 'Sutter': 'http://www.wikidata.org/entity/Q156377',\n",
       " 'Tehama': 'http://www.wikidata.org/entity/Q109705',\n",
       " 'Trinity': 'http://www.wikidata.org/entity/Q156188',\n",
       " 'Tulare': 'http://www.wikidata.org/entity/Q109686',\n",
       " 'Tuolumne': 'http://www.wikidata.org/entity/Q156346',\n",
       " 'Ventura': 'http://www.wikidata.org/entity/Q108127',\n",
       " 'Yolo': 'http://www.wikidata.org/entity/Q109709',\n",
       " 'Yuba': 'http://www.wikidata.org/entity/Q196014'}"
      ]
     },
     "execution_count": 205,
     "metadata": {},
     "output_type": "execute_result"
    }
   ],
   "source": [
    "countydict"
   ]
  },
  {
   "cell_type": "markdown",
   "metadata": {},
   "source": [
    "For the rest of these vocabulary columns I'm going to use my minihash function."
   ]
  },
  {
   "cell_type": "code",
   "execution_count": 206,
   "metadata": {},
   "outputs": [],
   "source": [
    "# Ecoregions\n",
    "ecoregions = vocabdf['Ecoregion_USDA']"
   ]
  },
  {
   "cell_type": "code",
   "execution_count": 207,
   "metadata": {},
   "outputs": [],
   "source": [
    "ecoregiondict = {}\n",
    "auxprefix = 'http://asi.ice.ucdavis.edu/sustsource/schemas/CA_PPODterms.ttl#' # needs to change!\n",
    "for i in range(1, ecoregions.shape[0]):\n",
    "    s = ecoregions[i]\n",
    "    if len(s) > 0:\n",
    "        ecoregiondict.update( {s : auxprefix + \"eco_\" + makeid(s)})\n",
    "        \n",
    "    \n"
   ]
  },
  {
   "cell_type": "code",
   "execution_count": 208,
   "metadata": {},
   "outputs": [
    {
     "data": {
      "text/plain": [
       "{'Central California Coast': 'http://asi.ice.ucdavis.edu/sustsource/schemas/CA_PPODterms.ttl#eco_ac7474',\n",
       " 'Central Valley Coast Ranges': 'http://asi.ice.ucdavis.edu/sustsource/schemas/CA_PPODterms.ttl#eco_fc7247',\n",
       " 'Colorado Desert': 'http://asi.ice.ucdavis.edu/sustsource/schemas/CA_PPODterms.ttl#eco_ffed7e',\n",
       " 'Great Valley': 'http://asi.ice.ucdavis.edu/sustsource/schemas/CA_PPODterms.ttl#eco_7dfa16',\n",
       " 'Klamath Mountains': 'http://asi.ice.ucdavis.edu/sustsource/schemas/CA_PPODterms.ttl#eco_7ec5f5',\n",
       " 'Modoc Plateau': 'http://asi.ice.ucdavis.edu/sustsource/schemas/CA_PPODterms.ttl#eco_fd13b8',\n",
       " 'Mojave Desert': 'http://asi.ice.ucdavis.edu/sustsource/schemas/CA_PPODterms.ttl#eco_4faed0',\n",
       " 'Mono': 'http://asi.ice.ucdavis.edu/sustsource/schemas/CA_PPODterms.ttl#eco_2dc2e9',\n",
       " 'Northern California Coast': 'http://asi.ice.ucdavis.edu/sustsource/schemas/CA_PPODterms.ttl#eco_ded8f7',\n",
       " 'Northern California Coast Ranges': 'http://asi.ice.ucdavis.edu/sustsource/schemas/CA_PPODterms.ttl#eco_5b9c18',\n",
       " 'Northern California Interior Coast Ranges': 'http://asi.ice.ucdavis.edu/sustsource/schemas/CA_PPODterms.ttl#eco_4080c9',\n",
       " 'Northwestern Basin and Range': 'http://asi.ice.ucdavis.edu/sustsource/schemas/CA_PPODterms.ttl#eco_446151',\n",
       " 'Sierra Nevada': 'http://asi.ice.ucdavis.edu/sustsource/schemas/CA_PPODterms.ttl#eco_88bc64',\n",
       " 'Sierra Nevada Foothills': 'http://asi.ice.ucdavis.edu/sustsource/schemas/CA_PPODterms.ttl#eco_81344c',\n",
       " 'Sonoran Desert': 'http://asi.ice.ucdavis.edu/sustsource/schemas/CA_PPODterms.ttl#eco_aa8916',\n",
       " 'Southeastern Great Basin': 'http://asi.ice.ucdavis.edu/sustsource/schemas/CA_PPODterms.ttl#eco_fda3e3',\n",
       " 'Southern California Coast': 'http://asi.ice.ucdavis.edu/sustsource/schemas/CA_PPODterms.ttl#eco_824b01',\n",
       " 'Southern California Mountains and Valleys': 'http://asi.ice.ucdavis.edu/sustsource/schemas/CA_PPODterms.ttl#eco_f75d48',\n",
       " 'Southern Cascades': 'http://asi.ice.ucdavis.edu/sustsource/schemas/CA_PPODterms.ttl#eco_6a7417'}"
      ]
     },
     "execution_count": 208,
     "metadata": {},
     "output_type": "execute_result"
    }
   ],
   "source": [
    "ecoregiondict"
   ]
  },
  {
   "cell_type": "code",
   "execution_count": 209,
   "metadata": {},
   "outputs": [],
   "source": [
    "# habitat type, use CWHR here\n",
    "cwhrdf = pd.read_csv('CWHR_Habitat_Lookup_Table.csv')\n",
    "habtypedict = {}\n",
    "for i in range(cwhrdf.shape[0]):\n",
    "    habtypedict.update( {cwhrdf.iloc[i,0] : 'http://asi.ice.ucdavis.edu/sustsource/schemas/CA_PPODterms.ttl#whr_' + cwhrdf.iloc[i,0] })"
   ]
  },
  {
   "cell_type": "code",
   "execution_count": 210,
   "metadata": {},
   "outputs": [
    {
     "data": {
      "text/plain": [
       "{'ADS': 'http://asi.ice.ucdavis.edu/sustsource/schemas/CA_PPODterms.ttl#whr_ADS',\n",
       " 'AGS': 'http://asi.ice.ucdavis.edu/sustsource/schemas/CA_PPODterms.ttl#whr_AGS',\n",
       " 'ASC': 'http://asi.ice.ucdavis.edu/sustsource/schemas/CA_PPODterms.ttl#whr_ASC',\n",
       " 'ASP': 'http://asi.ice.ucdavis.edu/sustsource/schemas/CA_PPODterms.ttl#whr_ASP',\n",
       " 'BAR': 'http://asi.ice.ucdavis.edu/sustsource/schemas/CA_PPODterms.ttl#whr_BAR',\n",
       " 'BBR': 'http://asi.ice.ucdavis.edu/sustsource/schemas/CA_PPODterms.ttl#whr_BBR',\n",
       " 'BOP': 'http://asi.ice.ucdavis.edu/sustsource/schemas/CA_PPODterms.ttl#whr_BOP',\n",
       " 'BOW': 'http://asi.ice.ucdavis.edu/sustsource/schemas/CA_PPODterms.ttl#whr_BOW',\n",
       " 'COW': 'http://asi.ice.ucdavis.edu/sustsource/schemas/CA_PPODterms.ttl#whr_COW',\n",
       " 'CPC': 'http://asi.ice.ucdavis.edu/sustsource/schemas/CA_PPODterms.ttl#whr_CPC',\n",
       " 'CRC': 'http://asi.ice.ucdavis.edu/sustsource/schemas/CA_PPODterms.ttl#whr_CRC',\n",
       " 'CSC': 'http://asi.ice.ucdavis.edu/sustsource/schemas/CA_PPODterms.ttl#whr_CSC',\n",
       " 'DFR': 'http://asi.ice.ucdavis.edu/sustsource/schemas/CA_PPODterms.ttl#whr_DFR',\n",
       " 'DGR': 'http://asi.ice.ucdavis.edu/sustsource/schemas/CA_PPODterms.ttl#whr_DGR',\n",
       " 'DOR': 'http://asi.ice.ucdavis.edu/sustsource/schemas/CA_PPODterms.ttl#whr_DOR',\n",
       " 'DRI': 'http://asi.ice.ucdavis.edu/sustsource/schemas/CA_PPODterms.ttl#whr_DRI',\n",
       " 'DSC': 'http://asi.ice.ucdavis.edu/sustsource/schemas/CA_PPODterms.ttl#whr_DSC',\n",
       " 'DSS': 'http://asi.ice.ucdavis.edu/sustsource/schemas/CA_PPODterms.ttl#whr_DSS',\n",
       " 'DSW': 'http://asi.ice.ucdavis.edu/sustsource/schemas/CA_PPODterms.ttl#whr_DSW',\n",
       " 'EOR': 'http://asi.ice.ucdavis.edu/sustsource/schemas/CA_PPODterms.ttl#whr_EOR',\n",
       " 'EPN': 'http://asi.ice.ucdavis.edu/sustsource/schemas/CA_PPODterms.ttl#whr_EPN',\n",
       " 'EST': 'http://asi.ice.ucdavis.edu/sustsource/schemas/CA_PPODterms.ttl#whr_EST',\n",
       " 'EUC': 'http://asi.ice.ucdavis.edu/sustsource/schemas/CA_PPODterms.ttl#whr_EUC',\n",
       " 'FEW': 'http://asi.ice.ucdavis.edu/sustsource/schemas/CA_PPODterms.ttl#whr_FEW',\n",
       " 'IGR': 'http://asi.ice.ucdavis.edu/sustsource/schemas/CA_PPODterms.ttl#whr_IGR',\n",
       " 'IRF': 'http://asi.ice.ucdavis.edu/sustsource/schemas/CA_PPODterms.ttl#whr_IRF',\n",
       " 'IRH': 'http://asi.ice.ucdavis.edu/sustsource/schemas/CA_PPODterms.ttl#whr_IRH',\n",
       " 'JPN': 'http://asi.ice.ucdavis.edu/sustsource/schemas/CA_PPODterms.ttl#whr_JPN',\n",
       " 'JST': 'http://asi.ice.ucdavis.edu/sustsource/schemas/CA_PPODterms.ttl#whr_JST',\n",
       " 'JUN': 'http://asi.ice.ucdavis.edu/sustsource/schemas/CA_PPODterms.ttl#whr_JUN',\n",
       " 'KMC': 'http://asi.ice.ucdavis.edu/sustsource/schemas/CA_PPODterms.ttl#whr_KMC',\n",
       " 'LAC': 'http://asi.ice.ucdavis.edu/sustsource/schemas/CA_PPODterms.ttl#whr_LAC',\n",
       " 'LPN': 'http://asi.ice.ucdavis.edu/sustsource/schemas/CA_PPODterms.ttl#whr_LPN',\n",
       " 'LSG': 'http://asi.ice.ucdavis.edu/sustsource/schemas/CA_PPODterms.ttl#whr_LSG',\n",
       " 'MCH': 'http://asi.ice.ucdavis.edu/sustsource/schemas/CA_PPODterms.ttl#whr_MCH',\n",
       " 'MCP': 'http://asi.ice.ucdavis.edu/sustsource/schemas/CA_PPODterms.ttl#whr_MCP',\n",
       " 'MHC': 'http://asi.ice.ucdavis.edu/sustsource/schemas/CA_PPODterms.ttl#whr_MHC',\n",
       " 'MHW': 'http://asi.ice.ucdavis.edu/sustsource/schemas/CA_PPODterms.ttl#whr_MHW',\n",
       " 'MRI': 'http://asi.ice.ucdavis.edu/sustsource/schemas/CA_PPODterms.ttl#whr_MRI',\n",
       " 'PAS': 'http://asi.ice.ucdavis.edu/sustsource/schemas/CA_PPODterms.ttl#whr_PAS',\n",
       " 'PGS': 'http://asi.ice.ucdavis.edu/sustsource/schemas/CA_PPODterms.ttl#whr_PGS',\n",
       " 'PJN': 'http://asi.ice.ucdavis.edu/sustsource/schemas/CA_PPODterms.ttl#whr_PJN',\n",
       " 'POS': 'http://asi.ice.ucdavis.edu/sustsource/schemas/CA_PPODterms.ttl#whr_POS',\n",
       " 'PPN': 'http://asi.ice.ucdavis.edu/sustsource/schemas/CA_PPODterms.ttl#whr_PPN',\n",
       " 'RDW': 'http://asi.ice.ucdavis.edu/sustsource/schemas/CA_PPODterms.ttl#whr_RDW',\n",
       " 'RFR': 'http://asi.ice.ucdavis.edu/sustsource/schemas/CA_PPODterms.ttl#whr_RFR',\n",
       " 'RIC': 'http://asi.ice.ucdavis.edu/sustsource/schemas/CA_PPODterms.ttl#whr_RIC',\n",
       " 'RIV': 'http://asi.ice.ucdavis.edu/sustsource/schemas/CA_PPODterms.ttl#whr_RIV',\n",
       " 'SCN': 'http://asi.ice.ucdavis.edu/sustsource/schemas/CA_PPODterms.ttl#whr_SCN',\n",
       " 'SEW': 'http://asi.ice.ucdavis.edu/sustsource/schemas/CA_PPODterms.ttl#whr_SEW',\n",
       " 'SGB': 'http://asi.ice.ucdavis.edu/sustsource/schemas/CA_PPODterms.ttl#whr_SGB',\n",
       " 'SMC': 'http://asi.ice.ucdavis.edu/sustsource/schemas/CA_PPODterms.ttl#whr_SMC',\n",
       " 'URB': 'http://asi.ice.ucdavis.edu/sustsource/schemas/CA_PPODterms.ttl#whr_URB',\n",
       " 'VIN': 'http://asi.ice.ucdavis.edu/sustsource/schemas/CA_PPODterms.ttl#whr_VIN',\n",
       " 'VOW': 'http://asi.ice.ucdavis.edu/sustsource/schemas/CA_PPODterms.ttl#whr_VOW',\n",
       " 'VRI': 'http://asi.ice.ucdavis.edu/sustsource/schemas/CA_PPODterms.ttl#whr_VRI',\n",
       " 'WFR': 'http://asi.ice.ucdavis.edu/sustsource/schemas/CA_PPODterms.ttl#whr_WFR',\n",
       " 'WTM': 'http://asi.ice.ucdavis.edu/sustsource/schemas/CA_PPODterms.ttl#whr_WTM'}"
      ]
     },
     "execution_count": 210,
     "metadata": {},
     "output_type": "execute_result"
    }
   ],
   "source": [
    "habtypedict"
   ]
  },
  {
   "cell_type": "code",
   "execution_count": 211,
   "metadata": {},
   "outputs": [],
   "source": [
    "# orgtype\n",
    "orgtypes = vocabdf['OrgType']\n",
    "orgtypedict = {}\n",
    "auxprefix = 'http://asi.ice.ucdavis.edu/sustsource/schemas/CA_PPODterms.ttl#'\n",
    "for i in range(orgtypes.shape[0]):\n",
    "    s = orgtypes[i]\n",
    "    if len(s) > 0:\n",
    "        orgtypedict.update( {s : auxprefix + \"oty_\" + makeid(s)})"
   ]
  },
  {
   "cell_type": "code",
   "execution_count": 212,
   "metadata": {},
   "outputs": [],
   "source": [
    "# orgactivity\n",
    "orgactivity = vocabdf['OrgActivity']\n",
    "orgactivitydict = {}\n",
    "for i in range(orgactivity.shape[0]):\n",
    "    s = orgactivity[i]\n",
    "    if len(s) > 0:\n",
    "        orgactivitydict.update( {s : auxprefix + \"oac_\" + makeid(s)})"
   ]
  },
  {
   "cell_type": "code",
   "execution_count": 213,
   "metadata": {},
   "outputs": [
    {
     "data": {
      "text/plain": [
       "{'Acquisition': 'http://asi.ice.ucdavis.edu/sustsource/schemas/CA_PPODterms.ttl#oac_a9771f',\n",
       " 'Advocacy': 'http://asi.ice.ucdavis.edu/sustsource/schemas/CA_PPODterms.ttl#oac_3e7a73',\n",
       " 'Agricultural Production': 'http://asi.ice.ucdavis.edu/sustsource/schemas/CA_PPODterms.ttl#oac_e10373',\n",
       " 'Certification': 'http://asi.ice.ucdavis.edu/sustsource/schemas/CA_PPODterms.ttl#oac_df4226',\n",
       " 'Coordinating': 'http://asi.ice.ucdavis.edu/sustsource/schemas/CA_PPODterms.ttl#oac_566d97',\n",
       " 'Education': 'http://asi.ice.ucdavis.edu/sustsource/schemas/CA_PPODterms.ttl#oac_59fbdc',\n",
       " 'Funding': 'http://asi.ice.ucdavis.edu/sustsource/schemas/CA_PPODterms.ttl#oac_1cb0e8',\n",
       " 'Governing': 'http://asi.ice.ucdavis.edu/sustsource/schemas/CA_PPODterms.ttl#oac_b5f5c2',\n",
       " 'Habitat Enhancement': 'http://asi.ice.ucdavis.edu/sustsource/schemas/CA_PPODterms.ttl#oac_96e37b',\n",
       " 'Management': 'http://asi.ice.ucdavis.edu/sustsource/schemas/CA_PPODterms.ttl#oac_441396',\n",
       " 'Planning': 'http://asi.ice.ucdavis.edu/sustsource/schemas/CA_PPODterms.ttl#oac_2defdd',\n",
       " 'Policy': 'http://asi.ice.ucdavis.edu/sustsource/schemas/CA_PPODterms.ttl#oac_f7d100',\n",
       " 'Regulating': 'http://asi.ice.ucdavis.edu/sustsource/schemas/CA_PPODterms.ttl#oac_7c7648',\n",
       " 'Research': 'http://asi.ice.ucdavis.edu/sustsource/schemas/CA_PPODterms.ttl#oac_ae9d32'}"
      ]
     },
     "execution_count": 213,
     "metadata": {},
     "output_type": "execute_result"
    }
   ],
   "source": [
    "orgactivitydict"
   ]
  },
  {
   "cell_type": "code",
   "execution_count": 214,
   "metadata": {},
   "outputs": [],
   "source": [
    "# ProjType\n",
    "projtype = vocabdf['ProjType']\n",
    "projtypedict = {}\n",
    "for i in range(projtype.shape[0]):\n",
    "    s = projtype[i]\n",
    "    if len(s) > 0:\n",
    "        projtypedict.update( {s : auxprefix + \"pjt_\" + makeid(s)})"
   ]
  },
  {
   "cell_type": "code",
   "execution_count": 215,
   "metadata": {},
   "outputs": [
    {
     "data": {
      "text/plain": [
       "{'Acquisition': 'http://asi.ice.ucdavis.edu/sustsource/schemas/CA_PPODterms.ttl#pjt_a9771f',\n",
       " 'Education': 'http://asi.ice.ucdavis.edu/sustsource/schemas/CA_PPODterms.ttl#pjt_59fbdc',\n",
       " 'Habitat Enhancement': 'http://asi.ice.ucdavis.edu/sustsource/schemas/CA_PPODterms.ttl#pjt_96e37b',\n",
       " 'Land Protection': 'http://asi.ice.ucdavis.edu/sustsource/schemas/CA_PPODterms.ttl#pjt_be0f57',\n",
       " 'Management': 'http://asi.ice.ucdavis.edu/sustsource/schemas/CA_PPODterms.ttl#pjt_441396',\n",
       " 'Planning': 'http://asi.ice.ucdavis.edu/sustsource/schemas/CA_PPODterms.ttl#pjt_2defdd',\n",
       " 'Remediation': 'http://asi.ice.ucdavis.edu/sustsource/schemas/CA_PPODterms.ttl#pjt_56d846',\n",
       " 'Research': 'http://asi.ice.ucdavis.edu/sustsource/schemas/CA_PPODterms.ttl#pjt_ae9d32'}"
      ]
     },
     "execution_count": 215,
     "metadata": {},
     "output_type": "execute_result"
    }
   ],
   "source": [
    "projtypedict"
   ]
  },
  {
   "cell_type": "code",
   "execution_count": 216,
   "metadata": {},
   "outputs": [],
   "source": [
    "# ProgType\n",
    "progtype = vocabdf['ProgType']\n",
    "progtypedict = {}\n",
    "for i in range(progtype.shape[0]):\n",
    "    s = progtype[i]\n",
    "    if len(s) > 0:\n",
    "        progtypedict.update( {s : auxprefix + \"pgt_\" + makeid(s)})"
   ]
  },
  {
   "cell_type": "code",
   "execution_count": 217,
   "metadata": {},
   "outputs": [
    {
     "data": {
      "text/plain": [
       "{'Acquisition': 'http://asi.ice.ucdavis.edu/sustsource/schemas/CA_PPODterms.ttl#pgt_a9771f',\n",
       " 'Education': 'http://asi.ice.ucdavis.edu/sustsource/schemas/CA_PPODterms.ttl#pgt_59fbdc',\n",
       " 'Funding': 'http://asi.ice.ucdavis.edu/sustsource/schemas/CA_PPODterms.ttl#pgt_1cb0e8',\n",
       " 'Habitat Enhancement': 'http://asi.ice.ucdavis.edu/sustsource/schemas/CA_PPODterms.ttl#pgt_96e37b',\n",
       " 'Management': 'http://asi.ice.ucdavis.edu/sustsource/schemas/CA_PPODterms.ttl#pgt_441396',\n",
       " 'Planning': 'http://asi.ice.ucdavis.edu/sustsource/schemas/CA_PPODterms.ttl#pgt_2defdd',\n",
       " 'Regulatory': 'http://asi.ice.ucdavis.edu/sustsource/schemas/CA_PPODterms.ttl#pgt_648354',\n",
       " 'Research': 'http://asi.ice.ucdavis.edu/sustsource/schemas/CA_PPODterms.ttl#pgt_ae9d32'}"
      ]
     },
     "execution_count": 217,
     "metadata": {},
     "output_type": "execute_result"
    }
   ],
   "source": [
    "progtypedict"
   ]
  },
  {
   "cell_type": "code",
   "execution_count": 218,
   "metadata": {},
   "outputs": [],
   "source": [
    "# GMType\n",
    "gmtype = vocabdf['GMType']\n",
    "gmtypedict = {}\n",
    "for i in range(gmtype.shape[0]):\n",
    "    s = gmtype[i]\n",
    "    if len(s) > 0:\n",
    "        gmtypedict.update( {s : auxprefix + \"gmn_\" + makeid(s)})"
   ]
  },
  {
   "cell_type": "code",
   "execution_count": 219,
   "metadata": {},
   "outputs": [
    {
     "data": {
      "text/plain": [
       "{'Executive Order': 'http://asi.ice.ucdavis.edu/sustsource/schemas/CA_PPODterms.ttl#gmn_7d49e5',\n",
       " 'Guidelines': 'http://asi.ice.ucdavis.edu/sustsource/schemas/CA_PPODterms.ttl#gmn_449fc4',\n",
       " 'Legislation': 'http://asi.ice.ucdavis.edu/sustsource/schemas/CA_PPODterms.ttl#gmn_9a6d05',\n",
       " 'Certification': 'http://asi.ice.ucdavis.edu/sustsource/schemas/CA_PPODterms.ttl#gmn_df4226'}"
      ]
     },
     "execution_count": 219,
     "metadata": {},
     "output_type": "execute_result"
    }
   ],
   "source": [
    "gmtypedict"
   ]
  },
  {
   "cell_type": "code",
   "execution_count": 220,
   "metadata": {},
   "outputs": [],
   "source": [
    "# GovLevel\n",
    "govlevel = vocabdf['GovLevel']\n",
    "govleveldict = {}\n",
    "for i in range(govlevel.shape[0]):\n",
    "    s = govlevel[i]\n",
    "    if len(s) > 0:\n",
    "        govleveldict.update( {s : auxprefix + \"gvl_\" + makeid(s)})"
   ]
  },
  {
   "cell_type": "code",
   "execution_count": 221,
   "metadata": {},
   "outputs": [
    {
     "data": {
      "text/plain": [
       "{'Federal': 'http://asi.ice.ucdavis.edu/sustsource/schemas/CA_PPODterms.ttl#gvl_ed531c',\n",
       " 'Local': 'http://asi.ice.ucdavis.edu/sustsource/schemas/CA_PPODterms.ttl#gvl_4a17a7',\n",
       " 'State': 'http://asi.ice.ucdavis.edu/sustsource/schemas/CA_PPODterms.ttl#gvl_6252fd',\n",
       " 'Private': 'http://asi.ice.ucdavis.edu/sustsource/schemas/CA_PPODterms.ttl#gvl_1dbbf8'}"
      ]
     },
     "execution_count": 221,
     "metadata": {},
     "output_type": "execute_result"
    }
   ],
   "source": [
    "govleveldict"
   ]
  },
  {
   "cell_type": "code",
   "execution_count": 222,
   "metadata": {},
   "outputs": [],
   "source": [
    "# PositionType\n",
    "positiontype = vocabdf['PositionType']\n",
    "positiontypedict = {}\n",
    "for i in range(positiontype.shape[0]):\n",
    "    s = positiontype[i]\n",
    "    if len(s) > 0:\n",
    "        positiontypedict.update( {s : auxprefix + \"pst_\" + makeid(s)})"
   ]
  },
  {
   "cell_type": "code",
   "execution_count": 223,
   "metadata": {},
   "outputs": [
    {
     "data": {
      "text/plain": [
       "{'Advisor': 'http://asi.ice.ucdavis.edu/sustsource/schemas/CA_PPODterms.ttl#pst_d610f0',\n",
       " 'Board Member': 'http://asi.ice.ucdavis.edu/sustsource/schemas/CA_PPODterms.ttl#pst_d947c0',\n",
       " 'Director': 'http://asi.ice.ucdavis.edu/sustsource/schemas/CA_PPODterms.ttl#pst_e7e6b1',\n",
       " 'Employee': 'http://asi.ice.ucdavis.edu/sustsource/schemas/CA_PPODterms.ttl#pst_a4e917',\n",
       " 'Faculty': 'http://asi.ice.ucdavis.edu/sustsource/schemas/CA_PPODterms.ttl#pst_d82b59',\n",
       " 'Manager': 'http://asi.ice.ucdavis.edu/sustsource/schemas/CA_PPODterms.ttl#pst_35991c',\n",
       " 'Member': 'http://asi.ice.ucdavis.edu/sustsource/schemas/CA_PPODterms.ttl#pst_7748ff',\n",
       " 'Owner': 'http://asi.ice.ucdavis.edu/sustsource/schemas/CA_PPODterms.ttl#pst_ea1c97'}"
      ]
     },
     "execution_count": 223,
     "metadata": {},
     "output_type": "execute_result"
    }
   ],
   "source": [
    "positiontypedict"
   ]
  },
  {
   "cell_type": "code",
   "execution_count": 224,
   "metadata": {},
   "outputs": [],
   "source": [
    "# ProjRole\n",
    "projrole = vocabdf['PeopleProjRole']\n",
    "projroledict = {}\n",
    "for i in range(projrole.shape[0]):\n",
    "    s = projrole[i]\n",
    "    if len(s) > 0:\n",
    "        projroledict.update( {s : auxprefix + \"prl_\" + makeid(s)})"
   ]
  },
  {
   "cell_type": "code",
   "execution_count": 225,
   "metadata": {},
   "outputs": [
    {
     "data": {
      "text/plain": [
       "{}"
      ]
     },
     "execution_count": 225,
     "metadata": {},
     "output_type": "execute_result"
    }
   ],
   "source": [
    "projroledict"
   ]
  },
  {
   "cell_type": "code",
   "execution_count": 226,
   "metadata": {},
   "outputs": [],
   "source": [
    "# orgGMRelation - might handle this in different manner - these are properties. But I'll create the dict for now.\n",
    "orggmrelation = vocabdf['orgGMRelation']\n",
    "orggmrelationdict = {}\n",
    "for i in range(orggmrelation.shape[0]):\n",
    "    s = orggmrelation[i]\n",
    "    if len(s) > 0:\n",
    "        orggmrelationdict.update( {s : auxprefix + \"pst_\" + makeid(s)})"
   ]
  },
  {
   "cell_type": "code",
   "execution_count": 227,
   "metadata": {},
   "outputs": [
    {
     "data": {
      "text/plain": [
       "{'Created': 'http://asi.ice.ucdavis.edu/sustsource/schemas/CA_PPODterms.ttl#pst_7d808e',\n",
       " 'Was Created By': 'http://asi.ice.ucdavis.edu/sustsource/schemas/CA_PPODterms.ttl#pst_2dbc0c',\n",
       " 'Implements': 'http://asi.ice.ucdavis.edu/sustsource/schemas/CA_PPODterms.ttl#pst_393ac5',\n",
       " 'Mandates': 'http://asi.ice.ucdavis.edu/sustsource/schemas/CA_PPODterms.ttl#pst_a5d31f',\n",
       " 'Funds Established By': 'http://asi.ice.ucdavis.edu/sustsource/schemas/CA_PPODterms.ttl#pst_a39303'}"
      ]
     },
     "execution_count": 227,
     "metadata": {},
     "output_type": "execute_result"
    }
   ],
   "source": [
    "orggmrelationdict"
   ]
  },
  {
   "cell_type": "markdown",
   "metadata": {},
   "source": [
    "#### Actually, the above is redundant"
   ]
  },
  {
   "cell_type": "code",
   "execution_count": 228,
   "metadata": {},
   "outputs": [],
   "source": [
    "# orgProjRelation - this may be redundant as well, but for completeness....\n",
    "orgprojrelation = vocabdf['orgProjRelation']\n",
    "orgprojrelationdict = {}\n",
    "for i in range(orgprojrelation.shape[0]):\n",
    "    s = orgprojrelation[i]\n",
    "    if len(s) > 0:\n",
    "        orgprojrelationdict.update( {s : auxprefix + \"prl_\" + makeid(s)})"
   ]
  },
  {
   "cell_type": "code",
   "execution_count": 229,
   "metadata": {},
   "outputs": [
    {
     "data": {
      "text/plain": [
       "{'Lead On': 'http://asi.ice.ucdavis.edu/sustsource/schemas/CA_PPODterms.ttl#prl_b34e39',\n",
       " 'Partner On': 'http://asi.ice.ucdavis.edu/sustsource/schemas/CA_PPODterms.ttl#prl_a068be'}"
      ]
     },
     "execution_count": 229,
     "metadata": {},
     "output_type": "execute_result"
    }
   ],
   "source": [
    "orgprojrelationdict"
   ]
  },
  {
   "cell_type": "markdown",
   "metadata": {},
   "source": [
    "#### Refining things\n",
    "Each cell of the sheets can refer to 4 different things I think. These will have different treatments. They can be:\n",
    "* Literals. Just add them as strings\n",
    "* References to other objects in this spreadsheet system.\n",
    "* References to outside URLs\n",
    "* References to vocabularies. These are stored in this script as dictionaries.\n",
    "\n",
    "We will need to notate which of these 4 things goes in each cell (expand from 'd', 'o' to 4 things). Also we want to notate which of these entries we break apart into multiples if comma-separated. We also may need to know the prefix for the referenced entity in my hashcode system."
   ]
  },
  {
   "cell_type": "code",
   "execution_count": 230,
   "metadata": {},
   "outputs": [
    {
     "data": {
      "text/plain": [
       "'orgdf'"
      ]
     },
     "execution_count": 230,
     "metadata": {},
     "output_type": "execute_result"
    }
   ],
   "source": [
    "'orgdf'"
   ]
  },
  {
   "cell_type": "code",
   "execution_count": 231,
   "metadata": {},
   "outputs": [
    {
     "data": {
      "text/html": [
       "<div>\n",
       "<style scoped>\n",
       "    .dataframe tbody tr th:only-of-type {\n",
       "        vertical-align: middle;\n",
       "    }\n",
       "\n",
       "    .dataframe tbody tr th {\n",
       "        vertical-align: top;\n",
       "    }\n",
       "\n",
       "    .dataframe thead th {\n",
       "        text-align: right;\n",
       "    }\n",
       "</style>\n",
       "<table border=\"1\" class=\"dataframe\">\n",
       "  <thead>\n",
       "    <tr style=\"text-align: right;\">\n",
       "      <th></th>\n",
       "      <th>Organization</th>\n",
       "      <th>Alias</th>\n",
       "      <th>isPartOf</th>\n",
       "      <th>isMemberOf</th>\n",
       "      <th>County</th>\n",
       "      <th>Ecoregion</th>\n",
       "      <th>hasOrgType</th>\n",
       "      <th>Partners</th>\n",
       "      <th>Funding</th>\n",
       "      <th>hasOrgActivity</th>\n",
       "      <th>...</th>\n",
       "      <th>Contact</th>\n",
       "      <th>Taxa</th>\n",
       "      <th>Land Cover - CWHR</th>\n",
       "      <th>Ecological Process</th>\n",
       "      <th>GM_Name</th>\n",
       "      <th>usecaseConservation</th>\n",
       "      <th>usecaseMeat</th>\n",
       "      <th>usecaseSac</th>\n",
       "      <th>usecaseSCAG</th>\n",
       "      <th>usecaseEcuador</th>\n",
       "    </tr>\n",
       "  </thead>\n",
       "  <tbody>\n",
       "    <tr>\n",
       "      <th>0</th>\n",
       "      <td>350 Sacramento</td>\n",
       "      <td></td>\n",
       "      <td></td>\n",
       "      <td>Capital Region Climate Readiness Collaborative...</td>\n",
       "      <td>Sacramento</td>\n",
       "      <td>Great Valley</td>\n",
       "      <td>Non-profit</td>\n",
       "      <td></td>\n",
       "      <td></td>\n",
       "      <td></td>\n",
       "      <td>...</td>\n",
       "      <td></td>\n",
       "      <td></td>\n",
       "      <td></td>\n",
       "      <td></td>\n",
       "      <td></td>\n",
       "      <td></td>\n",
       "      <td></td>\n",
       "      <td>x</td>\n",
       "      <td></td>\n",
       "      <td></td>\n",
       "    </tr>\n",
       "    <tr>\n",
       "      <th>1</th>\n",
       "      <td>Acorn Foundation</td>\n",
       "      <td></td>\n",
       "      <td></td>\n",
       "      <td></td>\n",
       "      <td></td>\n",
       "      <td></td>\n",
       "      <td>Foundation</td>\n",
       "      <td></td>\n",
       "      <td></td>\n",
       "      <td>Funding</td>\n",
       "      <td>...</td>\n",
       "      <td></td>\n",
       "      <td></td>\n",
       "      <td></td>\n",
       "      <td></td>\n",
       "      <td></td>\n",
       "      <td></td>\n",
       "      <td></td>\n",
       "      <td></td>\n",
       "      <td></td>\n",
       "      <td></td>\n",
       "    </tr>\n",
       "    <tr>\n",
       "      <th>2</th>\n",
       "      <td>Adobe Communities</td>\n",
       "      <td></td>\n",
       "      <td></td>\n",
       "      <td></td>\n",
       "      <td></td>\n",
       "      <td></td>\n",
       "      <td>Non-profit</td>\n",
       "      <td></td>\n",
       "      <td></td>\n",
       "      <td></td>\n",
       "      <td>...</td>\n",
       "      <td></td>\n",
       "      <td></td>\n",
       "      <td></td>\n",
       "      <td></td>\n",
       "      <td></td>\n",
       "      <td></td>\n",
       "      <td></td>\n",
       "      <td></td>\n",
       "      <td></td>\n",
       "      <td></td>\n",
       "    </tr>\n",
       "    <tr>\n",
       "      <th>3</th>\n",
       "      <td>Advocates for the West</td>\n",
       "      <td></td>\n",
       "      <td></td>\n",
       "      <td>Bodie Hills Conservation Partnership</td>\n",
       "      <td>All</td>\n",
       "      <td>All</td>\n",
       "      <td>Non-profit</td>\n",
       "      <td></td>\n",
       "      <td></td>\n",
       "      <td>Advocacy</td>\n",
       "      <td>...</td>\n",
       "      <td></td>\n",
       "      <td></td>\n",
       "      <td></td>\n",
       "      <td></td>\n",
       "      <td></td>\n",
       "      <td></td>\n",
       "      <td></td>\n",
       "      <td></td>\n",
       "      <td></td>\n",
       "      <td></td>\n",
       "    </tr>\n",
       "    <tr>\n",
       "      <th>4</th>\n",
       "      <td>AECOM</td>\n",
       "      <td></td>\n",
       "      <td></td>\n",
       "      <td></td>\n",
       "      <td>All</td>\n",
       "      <td>All</td>\n",
       "      <td>Commercial</td>\n",
       "      <td></td>\n",
       "      <td></td>\n",
       "      <td></td>\n",
       "      <td>...</td>\n",
       "      <td></td>\n",
       "      <td></td>\n",
       "      <td></td>\n",
       "      <td></td>\n",
       "      <td></td>\n",
       "      <td></td>\n",
       "      <td></td>\n",
       "      <td></td>\n",
       "      <td></td>\n",
       "      <td></td>\n",
       "    </tr>\n",
       "    <tr>\n",
       "      <th>...</th>\n",
       "      <td>...</td>\n",
       "      <td>...</td>\n",
       "      <td>...</td>\n",
       "      <td>...</td>\n",
       "      <td>...</td>\n",
       "      <td>...</td>\n",
       "      <td>...</td>\n",
       "      <td>...</td>\n",
       "      <td>...</td>\n",
       "      <td>...</td>\n",
       "      <td>...</td>\n",
       "      <td>...</td>\n",
       "      <td>...</td>\n",
       "      <td>...</td>\n",
       "      <td>...</td>\n",
       "      <td>...</td>\n",
       "      <td>...</td>\n",
       "      <td>...</td>\n",
       "      <td>...</td>\n",
       "      <td>...</td>\n",
       "      <td>...</td>\n",
       "    </tr>\n",
       "    <tr>\n",
       "      <th>1271</th>\n",
       "      <td>California State University - Chico</td>\n",
       "      <td>Chico State, CSU Chico</td>\n",
       "      <td></td>\n",
       "      <td></td>\n",
       "      <td></td>\n",
       "      <td></td>\n",
       "      <td>Academic</td>\n",
       "      <td></td>\n",
       "      <td></td>\n",
       "      <td>Research, Education</td>\n",
       "      <td>...</td>\n",
       "      <td></td>\n",
       "      <td></td>\n",
       "      <td></td>\n",
       "      <td></td>\n",
       "      <td></td>\n",
       "      <td></td>\n",
       "      <td></td>\n",
       "      <td></td>\n",
       "      <td></td>\n",
       "      <td></td>\n",
       "    </tr>\n",
       "    <tr>\n",
       "      <th>1272</th>\n",
       "      <td>California Sustainable Winegrowing Alliance</td>\n",
       "      <td>CSWA</td>\n",
       "      <td></td>\n",
       "      <td></td>\n",
       "      <td>All</td>\n",
       "      <td>All</td>\n",
       "      <td>Commercial</td>\n",
       "      <td></td>\n",
       "      <td></td>\n",
       "      <td>Certification, Education</td>\n",
       "      <td>...</td>\n",
       "      <td></td>\n",
       "      <td>wine grapes</td>\n",
       "      <td>VIN</td>\n",
       "      <td></td>\n",
       "      <td></td>\n",
       "      <td></td>\n",
       "      <td></td>\n",
       "      <td></td>\n",
       "      <td></td>\n",
       "      <td></td>\n",
       "    </tr>\n",
       "    <tr>\n",
       "      <th>1273</th>\n",
       "      <td>Los Cerritos Wetlands Authority</td>\n",
       "      <td>LCWA</td>\n",
       "      <td></td>\n",
       "      <td></td>\n",
       "      <td>Orange, Los Angeles</td>\n",
       "      <td>Southern California Coast</td>\n",
       "      <td>Joint Powers Authority</td>\n",
       "      <td></td>\n",
       "      <td></td>\n",
       "      <td>Acquisition, Management, Habitat Enhancement</td>\n",
       "      <td>...</td>\n",
       "      <td></td>\n",
       "      <td></td>\n",
       "      <td>SEW</td>\n",
       "      <td></td>\n",
       "      <td></td>\n",
       "      <td></td>\n",
       "      <td></td>\n",
       "      <td></td>\n",
       "      <td></td>\n",
       "      <td></td>\n",
       "    </tr>\n",
       "    <tr>\n",
       "      <th>1274</th>\n",
       "      <td>City of Long Beach</td>\n",
       "      <td></td>\n",
       "      <td></td>\n",
       "      <td>Los Cerritos Wetlands Authority</td>\n",
       "      <td>Los Angeles</td>\n",
       "      <td>Southern California Coast</td>\n",
       "      <td>Local Government</td>\n",
       "      <td></td>\n",
       "      <td></td>\n",
       "      <td></td>\n",
       "      <td>...</td>\n",
       "      <td></td>\n",
       "      <td></td>\n",
       "      <td></td>\n",
       "      <td></td>\n",
       "      <td></td>\n",
       "      <td></td>\n",
       "      <td></td>\n",
       "      <td></td>\n",
       "      <td></td>\n",
       "      <td></td>\n",
       "    </tr>\n",
       "    <tr>\n",
       "      <th>1275</th>\n",
       "      <td>City of Seal Beach</td>\n",
       "      <td></td>\n",
       "      <td></td>\n",
       "      <td>Los Cerritos Wetlands Authority</td>\n",
       "      <td>Orange</td>\n",
       "      <td>Southern California Coast</td>\n",
       "      <td>Local Government</td>\n",
       "      <td></td>\n",
       "      <td></td>\n",
       "      <td></td>\n",
       "      <td>...</td>\n",
       "      <td></td>\n",
       "      <td></td>\n",
       "      <td></td>\n",
       "      <td></td>\n",
       "      <td></td>\n",
       "      <td></td>\n",
       "      <td></td>\n",
       "      <td></td>\n",
       "      <td></td>\n",
       "      <td></td>\n",
       "    </tr>\n",
       "  </tbody>\n",
       "</table>\n",
       "<p>1276 rows × 22 columns</p>\n",
       "</div>"
      ],
      "text/plain": [
       "                                     Organization                   Alias  \\\n",
       "0                                  350 Sacramento                           \n",
       "1                                Acorn Foundation                           \n",
       "2                               Adobe Communities                           \n",
       "3                          Advocates for the West                           \n",
       "4                                           AECOM                           \n",
       "...                                           ...                     ...   \n",
       "1271          California State University - Chico  Chico State, CSU Chico   \n",
       "1272  California Sustainable Winegrowing Alliance                    CSWA   \n",
       "1273              Los Cerritos Wetlands Authority                    LCWA   \n",
       "1274                           City of Long Beach                           \n",
       "1275                           City of Seal Beach                           \n",
       "\n",
       "     isPartOf                                         isMemberOf  \\\n",
       "0              Capital Region Climate Readiness Collaborative...   \n",
       "1                                                                  \n",
       "2                                                                  \n",
       "3                           Bodie Hills Conservation Partnership   \n",
       "4                                                                  \n",
       "...       ...                                                ...   \n",
       "1271                                                               \n",
       "1272                                                               \n",
       "1273                                                               \n",
       "1274                             Los Cerritos Wetlands Authority   \n",
       "1275                             Los Cerritos Wetlands Authority   \n",
       "\n",
       "                   County                  Ecoregion              hasOrgType  \\\n",
       "0              Sacramento               Great Valley              Non-profit   \n",
       "1                                                                 Foundation   \n",
       "2                                                                 Non-profit   \n",
       "3                     All                        All              Non-profit   \n",
       "4                     All                        All              Commercial   \n",
       "...                   ...                        ...                     ...   \n",
       "1271                                                                Academic   \n",
       "1272                  All                        All              Commercial   \n",
       "1273  Orange, Los Angeles  Southern California Coast  Joint Powers Authority   \n",
       "1274          Los Angeles  Southern California Coast        Local Government   \n",
       "1275               Orange  Southern California Coast        Local Government   \n",
       "\n",
       "     Partners Funding                                hasOrgActivity  ...  \\\n",
       "0                                                                    ...   \n",
       "1                                                           Funding  ...   \n",
       "2                                                                    ...   \n",
       "3                                                          Advocacy  ...   \n",
       "4                                                                    ...   \n",
       "...       ...     ...                                           ...  ...   \n",
       "1271                                            Research, Education  ...   \n",
       "1272                                       Certification, Education  ...   \n",
       "1273                   Acquisition, Management, Habitat Enhancement  ...   \n",
       "1274                                                                 ...   \n",
       "1275                                                                 ...   \n",
       "\n",
       "     Contact         Taxa Land Cover - CWHR Ecological Process GM_Name  \\\n",
       "0                                                                        \n",
       "1                                                                        \n",
       "2                                                                        \n",
       "3                                                                        \n",
       "4                                                                        \n",
       "...      ...          ...               ...                ...     ...   \n",
       "1271                                                                     \n",
       "1272          wine grapes               VIN                              \n",
       "1273                                    SEW                              \n",
       "1274                                                                     \n",
       "1275                                                                     \n",
       "\n",
       "     usecaseConservation usecaseMeat usecaseSac usecaseSCAG usecaseEcuador  \n",
       "0                                             x                             \n",
       "1                                                                           \n",
       "2                                                                           \n",
       "3                                                                           \n",
       "4                                                                           \n",
       "...                  ...         ...        ...         ...            ...  \n",
       "1271                                                                        \n",
       "1272                                                                        \n",
       "1273                                                                        \n",
       "1274                                                                        \n",
       "1275                                                                        \n",
       "\n",
       "[1276 rows x 22 columns]"
      ]
     },
     "execution_count": 231,
     "metadata": {},
     "output_type": "execute_result"
    }
   ],
   "source": [
    "eval('orgdf')"
   ]
  },
  {
   "cell_type": "markdown",
   "metadata": {},
   "source": [
    "### Making a graph\n",
    "\n",
    "I think we're ready to start creating some rdf!"
   ]
  },
  {
   "cell_type": "code",
   "execution_count": 232,
   "metadata": {},
   "outputs": [],
   "source": [
    "# Initialize the in-memory RDF graph\n",
    "g = rdflib.Graph()"
   ]
  },
  {
   "cell_type": "code",
   "execution_count": 233,
   "metadata": {},
   "outputs": [],
   "source": [
    "# the first step is to get vocabularies loaded, in particular creating rdfs:labels for the entries"
   ]
  },
  {
   "cell_type": "code",
   "execution_count": 234,
   "metadata": {},
   "outputs": [],
   "source": [
    "rdfsuri = \"http://www.w3.org/2000/01/rdf-schema#\"\n",
    "rdfuri = \"http://www.w3.org/1999/02/22-rdf-syntax-ns#\"\n"
   ]
  },
  {
   "cell_type": "code",
   "execution_count": 235,
   "metadata": {},
   "outputs": [],
   "source": [
    "for k in ecoregiondict.keys():\n",
    "    subj = rdflib.URIRef(ecoregiondict[k])\n",
    "    pred = rdflib.URIRef(rdfsuri + 'label')\n",
    "    obj = rdflib.Literal(k)\n",
    "    g.add((subj, pred, obj))"
   ]
  },
  {
   "cell_type": "code",
   "execution_count": 236,
   "metadata": {},
   "outputs": [],
   "source": [
    "for k in issuedict.keys():\n",
    "    subj = rdflib.URIRef(issuedict[k])\n",
    "    pred = rdflib.URIRef(rdfsuri + 'label')\n",
    "    obj = rdflib.Literal(k)\n",
    "    g.add((subj, pred, obj))"
   ]
  },
  {
   "cell_type": "code",
   "execution_count": 237,
   "metadata": {},
   "outputs": [],
   "source": [
    "for k in countydict.keys():\n",
    "    subj = rdflib.URIRef(countydict[k])\n",
    "    pred = rdflib.URIRef(rdfsuri + 'label')\n",
    "    obj = rdflib.Literal(k)\n",
    "    g.add((subj, pred, obj))"
   ]
  },
  {
   "cell_type": "code",
   "execution_count": 238,
   "metadata": {},
   "outputs": [],
   "source": [
    "for k in habtypedict.keys():\n",
    "    subj = rdflib.URIRef(habtypedict[k])\n",
    "    pred = rdflib.URIRef(rdfsuri + 'label')\n",
    "    obj = rdflib.Literal(k)\n",
    "    g.add((subj, pred, obj))"
   ]
  },
  {
   "cell_type": "code",
   "execution_count": 239,
   "metadata": {},
   "outputs": [],
   "source": [
    "for k in orgtypedict.keys():\n",
    "    subj = rdflib.URIRef(orgtypedict[k])\n",
    "    pred = rdflib.URIRef(rdfsuri + 'label')\n",
    "    obj = rdflib.Literal(k)\n",
    "    g.add((subj, pred, obj))"
   ]
  },
  {
   "cell_type": "code",
   "execution_count": 240,
   "metadata": {},
   "outputs": [],
   "source": [
    "for k in orgactivitydict.keys():\n",
    "    subj = rdflib.URIRef(orgactivitydict[k])\n",
    "    pred = rdflib.URIRef(rdfsuri + 'label')\n",
    "    obj = rdflib.Literal(k)\n",
    "    g.add((subj, pred, obj))"
   ]
  },
  {
   "cell_type": "code",
   "execution_count": 241,
   "metadata": {},
   "outputs": [],
   "source": [
    "for k in projtypedict.keys():\n",
    "    subj = rdflib.URIRef(projtypedict[k])\n",
    "    pred = rdflib.URIRef(rdfsuri + 'label')\n",
    "    obj = rdflib.Literal(k)\n",
    "    g.add((subj, pred, obj))"
   ]
  },
  {
   "cell_type": "code",
   "execution_count": 242,
   "metadata": {},
   "outputs": [],
   "source": [
    "for k in progtypedict.keys():\n",
    "    subj = rdflib.URIRef(progtypedict[k])\n",
    "    pred = rdflib.URIRef(rdfsuri + 'label')\n",
    "    obj = rdflib.Literal(k)\n",
    "    g.add((subj, pred, obj))"
   ]
  },
  {
   "cell_type": "code",
   "execution_count": 243,
   "metadata": {},
   "outputs": [],
   "source": [
    "for k in gmtypedict.keys():\n",
    "    subj = rdflib.URIRef(gmtypedict[k])\n",
    "    pred = rdflib.URIRef(rdfsuri + 'label')\n",
    "    obj = rdflib.Literal(k)\n",
    "    g.add((subj, pred, obj))"
   ]
  },
  {
   "cell_type": "code",
   "execution_count": 244,
   "metadata": {},
   "outputs": [],
   "source": [
    "for k in govleveldict.keys():\n",
    "    subj = rdflib.URIRef(govleveldict[k])\n",
    "    pred = rdflib.URIRef(rdfsuri + 'label')\n",
    "    obj = rdflib.Literal(k)\n",
    "    g.add((subj, pred, obj))"
   ]
  },
  {
   "cell_type": "code",
   "execution_count": 245,
   "metadata": {},
   "outputs": [],
   "source": [
    "for k in positiontypedict.keys():\n",
    "    subj = rdflib.URIRef(positiontypedict[k])\n",
    "    pred = rdflib.URIRef(rdfsuri + 'label')\n",
    "    obj = rdflib.Literal(k)\n",
    "    g.add((subj, pred, obj))"
   ]
  },
  {
   "cell_type": "code",
   "execution_count": 246,
   "metadata": {},
   "outputs": [],
   "source": [
    "for k in projroledict.keys():\n",
    "    subj = rdflib.URIRef(projroledict[k])\n",
    "    pred = rdflib.URIRef(rdfsuri + 'label')\n",
    "    obj = rdflib.Literal(k)\n",
    "    g.add((subj, pred, obj))"
   ]
  },
  {
   "cell_type": "code",
   "execution_count": 247,
   "metadata": {},
   "outputs": [],
   "source": [
    "for k in orggmrelationdict.keys():\n",
    "    subj = rdflib.URIRef(orggmrelationdict[k])\n",
    "    pred = rdflib.URIRef(rdfsuri + 'label')\n",
    "    obj = rdflib.Literal(k)\n",
    "    g.add((subj, pred, obj))"
   ]
  },
  {
   "cell_type": "code",
   "execution_count": 248,
   "metadata": {},
   "outputs": [],
   "source": [
    "for k in orgprojrelationdict.keys():\n",
    "    subj = rdflib.URIRef(orgprojrelationdict[k])\n",
    "    pred = rdflib.URIRef(rdfsuri + 'label')\n",
    "    obj = rdflib.Literal(k)\n",
    "    g.add((subj, pred, obj))"
   ]
  },
  {
   "cell_type": "code",
   "execution_count": 249,
   "metadata": {},
   "outputs": [],
   "source": [
    "# now add the labels for the predicates\n",
    "for k in predlabeldict.keys():\n",
    "    subj = rdflib.URIRef(k)\n",
    "    pred = rdflib.URIRef(rdfsuri + 'label')\n",
    "    obj = rdflib.Literal(predlabeldict[k])\n",
    "    g.add((subj, pred, obj))"
   ]
  },
  {
   "cell_type": "code",
   "execution_count": 250,
   "metadata": {},
   "outputs": [
    {
     "data": {
      "text/plain": [
       "{'http://purl.org/dc/terms/title': 'title',\n",
       " 'http://www.w3.org/2004/02/skos/core#altLabel': 'alias',\n",
       " 'http://purl.org/dc/terms/isPartOf': 'is part of',\n",
       " 'http://www.w3.org/ns/org#memberOf': 'is member of',\n",
       " 'http://asi.ice.ucdavis.edu/sustsource/schemas/fsisupp.owl#inCounty': 'in county',\n",
       " 'http://asi.ice.ucdavis.edu/sustsource/schemas/fsisupp.owl#inEcoregion': 'in ecoregion',\n",
       " 'http://www.w3.org/ns/org#classification': 'organization type',\n",
       " 'http://vivoweb.org/ontology/core#hasCollaborator': 'has partner',\n",
       " 'http://purl.org/cerif/frapo/isFundedBy': 'is funded by',\n",
       " 'http://purl.obolibrary.org/obo/RO_0000056': 'participates in',\n",
       " 'http://asi.ice.ucdavis.edu/sustsource/schemas/fsisupp.owl#FSI_000239': 'related sustainability issue',\n",
       " 'http://dev.poderopedia.com/vocab/hasURL': 'has URL',\n",
       " 'http://vivoweb.org/ontology/core#contactInformation': 'contact',\n",
       " 'http://asi.ice.ucdavis.edu/sustsource/schemas/fsisupp.owl#taxa': 'taxa',\n",
       " 'http://asi.ice.ucdavis.edu/sustsource/schemas/fsisupp.owl#habitatType': 'habitat type',\n",
       " 'http://asi.ice.ucdavis.edu/sustsource/schemas/fsisupp.owl#ecologicalProcess': 'ecological process',\n",
       " 'http://asi.ice.ucdavis.edu/sustsource/schemas/fsisupp.owl#GM_Name': 'guideline/mandate name',\n",
       " 'http://xmlns.com/foaf/0.1/Project': 'project',\n",
       " 'http://asi.ice.ucdavis.edu/sustsource/schemas/fsisupp.owl#projType': 'project type',\n",
       " 'http://purl.obolibrary.org/obo/BFO_0000066': 'occurs in',\n",
       " 'http://asi.ice.ucdavis.edu/sustsource/schemas/fsisupp.owl#leadOrg': 'lead organization',\n",
       " 'http://vivoweb.org/ontology/core#fundingAgentFor': 'funding organization',\n",
       " 'http://vivoweb.org/ontology/core#hasFundingVehicle': 'funding provided via',\n",
       " 'http://asi.ice.ucdavis.edu/sustsource/schemas/fsisupp.owl#leadIndividual': 'lead individual',\n",
       " 'http://vivoweb.org/ontology/core#affiliatedOrganization': 'partner organization',\n",
       " 'http://purl.obolibrary.org/obo/RO_0001025': 'located in',\n",
       " 'http://asi.ice.ucdavis.edu/sustsource/schemas/fsisupp.owl#inWatershed': 'in watershed',\n",
       " 'http://asi.ice.ucdavis.edu/sustsource/schemas/fsisupp.owl#projDetails': 'project details',\n",
       " 'http://asi.ice.ucdavis.edu/sustsource/schemas/fsisupp.owl#hasIndicator': 'has indicator',\n",
       " 'http://purl.obolibrary.org/obo/RO_0002352': 'input of',\n",
       " 'http://purl.obolibrary.org/obo/RO_0002353': 'output of',\n",
       " 'http://asi.ice.ucdavis.edu/sustsource/schemas/fsisupp.owl#hasStrategy': 'has strategy',\n",
       " 'http://dbpedia.org/ontology/startYear': 'startYear',\n",
       " 'http://dbpedia.org/ontology/endYear': 'endYear',\n",
       " 'https://www.w3.org/2003/01/geo/wgs84_pos#lat': 'latitude',\n",
       " 'https://www.w3.org/2003/01/geo/wgs84_pos#long': 'longitude',\n",
       " 'http://asi.ice.ucdavis.edu/sustsource/schemas/fsisupp.owl#FSLdoc': 'FSL doc',\n",
       " 'http://asi.ice.ucdavis.edu/sustsource/schemas/fsisupp.owl#usecaseMeat': 'use case: meat',\n",
       " 'http://asi.ice.ucdavis.edu/sustsource/schemas/fsisupp.owl#usecaseEPA': 'use case: EPA',\n",
       " 'http://asi.ice.ucdavis.edu/sustsource/schemas/fsisupp.owl#usecaseJPA': 'use case: JPA',\n",
       " 'http://vivoweb.org/ontology/core#Program': 'program',\n",
       " 'http://asi.ice.ucdavis.edu/sustsource/schemas/fsisupp.owl#progType': 'program yype',\n",
       " 'http://asi.ice.ucdavis.edu/sustsource/schemas/fsisupp.owl#usecaseSCAG': 'use case: SCAG',\n",
       " 'http://xmlns.com/foaf/0.1/name': 'full name',\n",
       " 'http://xmlns.com/foaf/0.1/lastName': 'last name',\n",
       " 'http://xmlns.com/foaf/0.1/firstName': 'first name',\n",
       " 'http://xmlns.com/foaf/0.1/mbox': 'email',\n",
       " 'http://xmlns.com/foaf/0.1/phone': 'phone',\n",
       " 'http://asi.ice.ucdavis.edu/sustsource/schemas/fsisupp.owl#FSI_000243': 'note',\n",
       " 'http://asi.ice.ucdavis.edu/sustsource/schemas/fsisupp.owl#usecaseCons': 'use case: Conservation',\n",
       " 'http://asi.ice.ucdavis.edu/sustsource/schemas/fsisupp.owl#usecaseSac': 'use case: Sacramento',\n",
       " 'http://asi.ice.ucdavis.edu/sustsource/schemas/fsisupp.owl#usecaseEcuador': 'use case: Ecuador',\n",
       " 'http://asi.ice.ucdavis.edu/sustsource/schemas/fsisupp.owl#usecaseBayAreaRAMP': 'use case: Bay Area RAMP',\n",
       " 'http://purl.obolibrary.org/obo/RO_0000057': 'has participant',\n",
       " 'http://purl.obolibrary.org/obo/RO_0000081': 'role of',\n",
       " 'http://asi.ice.ucdavis.edu/sustsource/schemas/fsisupp.owl#positionType': 'position type',\n",
       " 'http://purl.obolibrary.org/obo/RO_0002331': 'involved in',\n",
       " 'http://purl.obolibrary.org/obo/RO_0000087': 'has role',\n",
       " 'http://asi.ice.ucdavis.edu/sustsource/schemas/fsisupp.owl#roleType': 'role type',\n",
       " 'http://asi.ice.ucdavis.edu/sustsource/schemas/fsisupp.owl#gmType': 'guideline/mandate type',\n",
       " 'http://purl.org/dc/terms/date': 'date',\n",
       " 'http://asi.ice.ucdavis.edu/sustsource/schemas/fsisupp.owl#govLevel': 'government level',\n",
       " 'http://iflastandards.info/ns/fr/frbr/frbrer/P2008': 'creator of',\n",
       " 'http://iflastandards.info/ns/fr/frbr/frbrer/P2007': 'was created by',\n",
       " 'https://w3id.org/dingo#implements': 'implements',\n",
       " 'http://asi.ice.ucdavis.edu/sustsource/schemas/fsisupp.owl#mandates': 'mandates',\n",
       " 'http://asi.ice.ucdavis.edu/sustsource/schemas/fsisupp.owl#mandatedBy': 'mandated by',\n",
       " 'http://purl.obolibrary.org/obo/RO_0002233': 'has input',\n",
       " 'http://purl.org/dc/terms/references': 'references'}"
      ]
     },
     "execution_count": 250,
     "metadata": {},
     "output_type": "execute_result"
    }
   ],
   "source": [
    "predlabeldict"
   ]
  },
  {
   "cell_type": "markdown",
   "metadata": {},
   "source": [
    "Now for the great adventure. Take each of our sheets, go through the columns row-by-row, and add triples."
   ]
  },
  {
   "cell_type": "code",
   "execution_count": 251,
   "metadata": {},
   "outputs": [],
   "source": [
    "# add a triple (or multiples maybe) to the graph g based on details in describing predicate\n",
    "def addtriple(g, prdetails, subjval, cellval, subjectstr):\n",
    "    subj =  rdflib.URIRef(subjval)\n",
    "    if cellval == 'All':\n",
    "        if prdetails[3] == 'countydict':\n",
    "            cellval = ','.join(countydict.keys())    \n",
    "        elif prdetails[3] == 'ecoregiondict':\n",
    "            cellval = ','.join(ecoregiondict.keys())\n",
    "    if prdetails[4] == 'm':\n",
    "        celllist = [s.strip() for s in cellval.split(',')]\n",
    "    else:\n",
    "        celllist = [cellval]\n",
    "    for cell in celllist:\n",
    "        if prdetails[0] == 'd':\n",
    "            pred = rdflib.URIRef(prdetails[1])\n",
    "            if 'usecase' in prdetails[1]:\n",
    "                if cell == 'X' or cell == 'x':\n",
    "                    obj = rdflib.Literal(True, datatype = rdflib.namespace.XSD.boolean)\n",
    "            else:\n",
    "                obj = rdflib.Literal(cell)\n",
    "            g.add((subj, pred, obj))\n",
    "        elif prdetails[0] == 'v':\n",
    "            try:\n",
    "                obj = rdflib.URIRef(eval(prdetails[3])[cell])\n",
    "                pred = rdflib.URIRef(prdetails[1])\n",
    "                g.add((subj, pred, obj))\n",
    "            except KeyError:\n",
    "                print(subjectstr + \": \" + cell + \" not in \" + prdetails[3])\n",
    "                pass\n",
    "        elif prdetails[0] == 'o':\n",
    "            pred = rdflib.URIRef(prdetails[1])\n",
    "            obj = rdflib.URIRef( auxprefix + prdetails[3] + \"_\" + makeid(cell))\n",
    "            g.add((subj, pred, obj))\n",
    "        elif prdetails[0] == 'u':\n",
    "            pred = rdflib.URIRef(prdetails[1])\n",
    "            obj = rdflib.URIRef(cell)\n",
    "            g.add((subj, pred, obj))\n",
    "\n",
    "            "
   ]
  },
  {
   "cell_type": "code",
   "execution_count": 252,
   "metadata": {},
   "outputs": [],
   "source": [
    "# Organizations\n",
    "for r in range(orgdf.shape[0]):\n",
    "    orgname = orgdf.iloc[r,0] \n",
    "    subjval = auxprefix + \"org_\" + makeid(orgname)\n",
    "    g.add((rdflib.URIRef(subjval), rdflib.URIRef(rdfuri + 'type'), rdflib.URIRef(PPODrefs['Organizations'])))\n",
    "    g.add((rdflib.URIRef(subjval), rdflib.URIRef(rdfsuri + 'label'), rdflib.Literal(orgname)))\n",
    "    for c in range(17):  #  this has additional columns, for usecases, deal with later. range(orgdf.shape[1]):\n",
    "        colname = orgdf.columns[c]\n",
    "        cellval = orgdf.iloc[r,c]\n",
    "        if cellval != '':\n",
    "            addtriple(g, orgpred[colname], subjval, cellval, orgname) \n",
    "        "
   ]
  },
  {
   "cell_type": "code",
   "execution_count": 253,
   "metadata": {},
   "outputs": [],
   "source": [
    "# Programs\n",
    "for r in range(progdf.shape[0]):\n",
    "    progname = progdf.iloc[r,0] \n",
    "    subjval = auxprefix + \"prg_\" + makeid(progname)\n",
    "    g.add((rdflib.URIRef(subjval), rdflib.URIRef(rdfuri + 'type'), rdflib.URIRef(PPODrefs['Programs'])))\n",
    "    g.add((rdflib.URIRef(subjval), rdflib.URIRef(rdfsuri + 'label'), rdflib.Literal(progname)))\n",
    "    for c in range(progdf.shape[1]):  #  this has additional columns, for usecases, deal with later. range(orgdf.shape[1]):\n",
    "        colname = progdf.columns[c]\n",
    "        cellval = progdf.iloc[r,c]\n",
    "        if cellval != '':\n",
    "            addtriple(g, progpred[colname], subjval, cellval, progname) "
   ]
  },
  {
   "cell_type": "code",
   "execution_count": 254,
   "metadata": {},
   "outputs": [
    {
     "name": "stdout",
     "output_type": "stream",
     "text": [
      "Doty Ravine Preserve: vernal pools not in habtypedict\n"
     ]
    }
   ],
   "source": [
    "# Projects\n",
    "for r in range(projdf.shape[0]):\n",
    "    projname = projdf.iloc[r,0] \n",
    "    subjval = auxprefix + \"prj_\" + makeid(projname)\n",
    "    g.add((rdflib.URIRef(subjval), rdflib.URIRef(rdfuri + 'type'), rdflib.URIRef(PPODrefs['Projects'])))\n",
    "    g.add((rdflib.URIRef(subjval), rdflib.URIRef(rdfsuri + 'label'), rdflib.Literal(projname)))\n",
    "    for c in range(projdf.shape[1]):  #  this has additional columns, for usecases, deal with later. range(orgdf.shape[1]):\n",
    "        colname = projdf.columns[c]\n",
    "        cellval = projdf.iloc[r,c]\n",
    "        if cellval != '':\n",
    "            addtriple(g, projpred[colname], subjval, cellval, projname) "
   ]
  },
  {
   "cell_type": "code",
   "execution_count": 255,
   "metadata": {},
   "outputs": [],
   "source": [
    "# People\n",
    "for r in range(peopledf.shape[0]):\n",
    "    pername = peopledf.iloc[r,0] \n",
    "    subjval = auxprefix + \"per_\" + makeid(pername)\n",
    "    g.add((rdflib.URIRef(subjval), rdflib.URIRef(rdfuri + 'type'), rdflib.URIRef(PPODrefs['People'])))\n",
    "    g.add((rdflib.URIRef(subjval), rdflib.URIRef(rdfsuri + 'label'), rdflib.Literal(pername)))\n",
    "    for c in range(peopledf.shape[1]):  #  this has additional columns, for usecases, deal with later. range(orgdf.shape[1]):\n",
    "        colname = peopledf.columns[c]\n",
    "        cellval = peopledf.iloc[r,c]\n",
    "        if cellval != '':\n",
    "            addtriple(g, personpred[colname], subjval, cellval, pername) "
   ]
  },
  {
   "cell_type": "code",
   "execution_count": 256,
   "metadata": {},
   "outputs": [],
   "source": [
    "# And I just realized the tables below are creating *Roles*. This is a new class. I'd better add it.\n",
    "# It's in BFO - http://purl.obolibrary.org/obo/BFO_0000023\n",
    "g.add((rdflib.URIRef('http://purl.obolibrary.org/obo/BFO_0000023'), rdflib.URIRef(rdfsuri + 'label'), rdflib.Literal('Role')))"
   ]
  },
  {
   "cell_type": "code",
   "execution_count": 257,
   "metadata": {},
   "outputs": [],
   "source": [
    "# People-orgs\n",
    "for r in range(peopleorgdf.shape[0]):\n",
    "    rolestr = peopleorgdf.iloc[r,0] + peopleorgdf.iloc[r,1] + peopleorgdf.iloc[r,2]\n",
    "    subjval = auxprefix + \"rol_\" + makeid(rolestr)\n",
    "    g.add((rdflib.URIRef(subjval), rdflib.URIRef(rdfsuri + 'label'), rdflib.Literal(peopleorgdf.iloc[r,2])))\n",
    "    g.add((rdflib.URIRef(subjval), rdflib.URIRef(rdfuri + 'type'), rdflib.URIRef('http://purl.obolibrary.org/obo/BFO_0000023')))\n",
    "    for c in range(peopleorgdf.shape[1]):  \n",
    "        colname = peopleorgdf.columns[c]\n",
    "        cellval = peopleorgdf.iloc[r,c]\n",
    "        if cellval != '':\n",
    "            addtriple(g, personorgpred[colname], subjval, cellval, rolestr) "
   ]
  },
  {
   "cell_type": "code",
   "execution_count": 258,
   "metadata": {},
   "outputs": [],
   "source": [
    "# People-proj\n",
    "for r in range(peopleprojdf.shape[0]):\n",
    "    if peopleprojdf.iloc[r,2] == '':\n",
    "        newrole = 'Participant'\n",
    "    else:\n",
    "        newrole = peopleprojdf.iloc[r,2]\n",
    "    rolestr = peopleprojdf.iloc[r,0] + peopleprojdf.iloc[r,1] + newrole  \n",
    "    #pername = peopleprojdf.iloc[r,0] \n",
    "    subjval = auxprefix + \"rol_\" + makeid(rolestr)\n",
    "    g.add((rdflib.URIRef(subjval), rdflib.URIRef(rdfsuri + 'label'), rdflib.Literal(newrole)))\n",
    "    g.add((rdflib.URIRef(subjval), rdflib.URIRef(rdfuri + 'type'), rdflib.URIRef('http://purl.obolibrary.org/obo/BFO_0000023')))    \n",
    "    for c in range(peopleprojdf.shape[1]):  #  this has additional columns, for usecases, deal with later. range(orgdf.shape[1]):\n",
    "        colname = peopleprojdf.columns[c]\n",
    "        cellval = peopleprojdf.iloc[r,c]\n",
    "        if cellval != '':\n",
    "            addtriple(g, personprojpred[colname], subjval, cellval, rolestr) "
   ]
  },
  {
   "cell_type": "code",
   "execution_count": 259,
   "metadata": {},
   "outputs": [],
   "source": [
    "# People-program\n",
    "for r in range(peopleprogramdf.shape[0]):\n",
    "    rolestr = peopleorgdf.iloc[r,0] + peopleorgdf.iloc[r,1] + peopleorgdf.iloc[r,2]\n",
    "    #pername = peopleprogramdf.iloc[r,0] \n",
    "    subjval = auxprefix + \"rol_\" + makeid(rolestr)\n",
    "    g.add((rdflib.URIRef(subjval), rdflib.URIRef(rdfsuri + 'label'), rdflib.Literal(peopleorgdf.iloc[r,2])))\n",
    "    g.add((rdflib.URIRef(subjval), rdflib.URIRef(rdfuri + 'type'), rdflib.URIRef('http://purl.obolibrary.org/obo/BFO_0000023')))    \n",
    "    for c in range(peopleprogramdf.shape[1]):\n",
    "        colname = peopleprogramdf.columns[c]\n",
    "        cellval = peopleprogramdf.iloc[r,c]\n",
    "        if cellval != '':\n",
    "            addtriple(g, personprogrampred[colname], subjval, cellval, rolestr) "
   ]
  },
  {
   "cell_type": "code",
   "execution_count": 260,
   "metadata": {},
   "outputs": [],
   "source": [
    "# guidelines/mandates\n",
    "for r in range(guidelinesdf.shape[0]):\n",
    "    pername = guidelinesdf.iloc[r,0] \n",
    "    subjval = auxprefix + \"gmt_\" + makeid(pername)\n",
    "    g.add((rdflib.URIRef(subjval), rdflib.URIRef(rdfsuri + 'label'), rdflib.Literal(pername)))\n",
    "    g.add((rdflib.URIRef(subjval), rdflib.URIRef(rdfuri + 'type'), rdflib.URIRef(PPODrefs['Guidelines_Mandates'])))        \n",
    "    for c in range(guidelinesdf.shape[1]): \n",
    "        colname = guidelinesdf.columns[c]\n",
    "        cellval = guidelinesdf.iloc[r,c]\n",
    "        if cellval != '':\n",
    "            addtriple(g, guidelinespred[colname], subjval, cellval, pername) "
   ]
  },
  {
   "cell_type": "code",
   "execution_count": 261,
   "metadata": {},
   "outputs": [],
   "source": [
    "# organizations - guidelines/mandates\n",
    "# different logic here, the table is of triples\n",
    "for r in range(orggmdf.shape[0]):\n",
    "    orgname = orggmdf.iloc[r,0] \n",
    "    subjval = auxprefix + \"org_\" + makeid(orgname)\n",
    "    pred = orggmpred[orggmdf.iloc[r,1]][1]\n",
    "    objval = auxprefix + \"gmt_\" + makeid(orggmdf.iloc[r,2]) \n",
    "    g.add((rdflib.URIRef(subjval), rdflib.URIRef(pred), rdflib.URIRef(objval)))\n",
    "     "
   ]
  },
  {
   "cell_type": "code",
   "execution_count": 262,
   "metadata": {},
   "outputs": [],
   "source": [
    "# somewhat different logic for this table as well. columns C, D, E in this table form a class that\n",
    "# whose instances the GMs in column A point to with predicate in column B. The entries in this \n",
    "# dictionary are for columns C, D, and E  --- from above\n",
    "for r in range(orgprojgmdf.shape[0]):\n",
    "    rolestr = orgprojgmdf.iloc[r,2] + orgprojgmdf.iloc[r,3] + orgprojgmdf.iloc[r,4]\n",
    "    roleval = auxprefix + \"rol_\" + makeid(rolestr)\n",
    "    g.add((rdflib.URIRef(roleval), rdflib.URIRef(rdfsuri + 'label'), rdflib.Literal(orgprojgmdf.iloc[r,3])))\n",
    "    g.add((rdflib.URIRef(roleval), rdflib.URIRef(rdfuri + 'type'), rdflib.URIRef('http://purl.obolibrary.org/obo/BFO_0000023')))\n",
    "    gmname = orgprojgmdf.iloc[r,0] \n",
    "    subjval = auxprefix + \"gmt_\" + makeid(gmname)\n",
    "    pred = orggmrelationdict[orgprojgmdf.iloc[r,1]]                                                                            \n",
    "    #pred = orggmpred[orgprojgmdf.iloc[r,1]][1]\n",
    "    objval = roleval\n",
    "    g.add((rdflib.URIRef(subjval), rdflib.URIRef(pred), rdflib.URIRef(objval)))\n",
    "     \n"
   ]
  },
  {
   "cell_type": "code",
   "execution_count": 263,
   "metadata": {},
   "outputs": [],
   "source": [
    "# datasets\n",
    "for r in range(datasetdf.shape[0]):\n",
    "    pername = datasetdf.iloc[r,0] \n",
    "    subjval = auxprefix + \"dat_\" + makeid(pername)\n",
    "    g.add((rdflib.URIRef(subjval), rdflib.URIRef(rdfuri + 'type'), rdflib.URIRef(PPODrefs['Datasets'])))\n",
    "    g.add((rdflib.URIRef(subjval), rdflib.URIRef(rdfsuri + 'label'), rdflib.Literal(pername)))\n",
    "    for c in range(datasetdf.shape[1]):  #  this has additional columns, for usecases, deal with later. range(orgdf.shape[1]):\n",
    "        colname = datasetdf.columns[c]\n",
    "        cellval = datasetdf.iloc[r,c]\n",
    "        if cellval != '':\n",
    "            addtriple(g, datasetpred[colname], subjval, cellval, pername) "
   ]
  },
  {
   "cell_type": "code",
   "execution_count": 264,
   "metadata": {},
   "outputs": [],
   "source": [
    "# tools\n",
    "for r in range(tooldf.shape[0]):\n",
    "    pername = tooldf.iloc[r,0] \n",
    "    subjval = auxprefix + \"tol_\" + makeid(pername)\n",
    "    g.add((rdflib.URIRef(subjval), rdflib.URIRef(rdfuri + 'type'), rdflib.URIRef(PPODrefs['Tools'])))\n",
    "    g.add((rdflib.URIRef(subjval), rdflib.URIRef(rdfsuri + 'label'), rdflib.Literal(pername)))\n",
    "    for c in range(tooldf.shape[1]):  #  this has additional columns, for usecases, deal with later. range(orgdf.shape[1]):\n",
    "        colname = tooldf.columns[c]\n",
    "        cellval = tooldf.iloc[r,c]\n",
    "        if cellval != '':\n",
    "            addtriple(g, toolpred[colname], subjval, cellval, pername) "
   ]
  },
  {
   "cell_type": "code",
   "execution_count": 265,
   "metadata": {},
   "outputs": [],
   "source": [
    "g.serialize(format=\"turtle\", destination=\"./PPOD0.ttl\")"
   ]
  },
  {
   "cell_type": "code",
   "execution_count": null,
   "metadata": {},
   "outputs": [],
   "source": []
  }
 ],
 "metadata": {
  "kernelspec": {
   "display_name": "Python 3",
   "language": "python",
   "name": "python3"
  },
  "language_info": {
   "codemirror_mode": {
    "name": "ipython",
    "version": 3
   },
   "file_extension": ".py",
   "mimetype": "text/x-python",
   "name": "python",
   "nbconvert_exporter": "python",
   "pygments_lexer": "ipython3",
   "version": "3.6.9"
  }
 },
 "nbformat": 4,
 "nbformat_minor": 4
}
